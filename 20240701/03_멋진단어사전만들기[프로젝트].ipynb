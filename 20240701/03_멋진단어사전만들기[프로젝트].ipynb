{
 "cells": [
  {
   "cell_type": "markdown",
   "id": "796de96b",
   "metadata": {},
   "source": [
    "## 3-1. 프로젝트: SentencePiece 사용하기"
   ]
  },
  {
   "cell_type": "code",
   "execution_count": 45,
   "id": "ea5b9aeb",
   "metadata": {},
   "outputs": [
    {
     "name": "stdout",
     "output_type": "stream",
     "text": [
      "2.6.0\n",
      "1.21.4\n",
      "3.4.3\n",
      "0.5.2\n"
     ]
    }
   ],
   "source": [
    "import tensorflow as tf\n",
    "import numpy as np\n",
    "import matplotlib as plt\n",
    "import konlpy\n",
    "\n",
    "print(tf.__version__)\n",
    "print(np.__version__)\n",
    "print(plt.__version__)\n",
    "print(konlpy.__version__)"
   ]
  },
  {
   "cell_type": "markdown",
   "id": "ee8c6a4b",
   "metadata": {},
   "source": [
    "#### Step 1. SentencePiece 설치하기"
   ]
  },
  {
   "cell_type": "code",
   "execution_count": 43,
   "id": "f15e20a8",
   "metadata": {},
   "outputs": [
    {
     "name": "stdout",
     "output_type": "stream",
     "text": [
      "Requirement already satisfied: sentencepiece in /opt/conda/lib/python3.9/site-packages (0.1.96)\n",
      "\u001b[33mWARNING: Running pip as the 'root' user can result in broken permissions and conflicting behaviour with the system package manager. It is recommended to use a virtual environment instead: https://pip.pypa.io/warnings/venv\u001b[0m\n"
     ]
    }
   ],
   "source": [
    "!pip install sentencepiece"
   ]
  },
  {
   "cell_type": "markdown",
   "id": "938a7842",
   "metadata": {},
   "source": [
    "## Step 2. SentencePiece 설치하기\n"
   ]
  },
  {
   "cell_type": "code",
   "execution_count": 2,
   "id": "c5cd0805",
   "metadata": {},
   "outputs": [
    {
     "ename": "NameError",
     "evalue": "name 'filtered_corpus' is not defined",
     "output_type": "error",
     "traceback": [
      "\u001b[0;31m---------------------------------------------------------------------------\u001b[0m",
      "\u001b[0;31mNameError\u001b[0m                                 Traceback (most recent call last)",
      "\u001b[0;32m/tmp/ipykernel_33/3482574838.py\u001b[0m in \u001b[0;36m<module>\u001b[0;34m\u001b[0m\n\u001b[1;32m      6\u001b[0m \u001b[0;34m\u001b[0m\u001b[0m\n\u001b[1;32m      7\u001b[0m \u001b[0;32mwith\u001b[0m \u001b[0mopen\u001b[0m\u001b[0;34m(\u001b[0m\u001b[0mtemp_file\u001b[0m\u001b[0;34m,\u001b[0m \u001b[0;34m'w'\u001b[0m\u001b[0;34m)\u001b[0m \u001b[0;32mas\u001b[0m \u001b[0mf\u001b[0m\u001b[0;34m:\u001b[0m\u001b[0;34m\u001b[0m\u001b[0;34m\u001b[0m\u001b[0m\n\u001b[0;32m----> 8\u001b[0;31m     \u001b[0;32mfor\u001b[0m \u001b[0mrow\u001b[0m \u001b[0;32min\u001b[0m \u001b[0mfiltered_corpus\u001b[0m\u001b[0;34m:\u001b[0m   \u001b[0;31m# 이전 스텝에서 정제했던 corpus를 활용.\u001b[0m\u001b[0;34m\u001b[0m\u001b[0;34m\u001b[0m\u001b[0m\n\u001b[0m\u001b[1;32m      9\u001b[0m         \u001b[0mf\u001b[0m\u001b[0;34m.\u001b[0m\u001b[0mwrite\u001b[0m\u001b[0;34m(\u001b[0m\u001b[0mstr\u001b[0m\u001b[0;34m(\u001b[0m\u001b[0mrow\u001b[0m\u001b[0;34m)\u001b[0m \u001b[0;34m+\u001b[0m \u001b[0;34m'\\n'\u001b[0m\u001b[0;34m)\u001b[0m\u001b[0;34m\u001b[0m\u001b[0;34m\u001b[0m\u001b[0m\n\u001b[1;32m     10\u001b[0m \u001b[0;34m\u001b[0m\u001b[0m\n",
      "\u001b[0;31mNameError\u001b[0m: name 'filtered_corpus' is not defined"
     ]
    }
   ],
   "source": [
    "import sentencepiece as spm\n",
    "import os\n",
    "temp_file = os.getenv('HOME')+'/aiffel/sp_tokenizer/data/korean-english-park.train.ko.temp'\n",
    "\n",
    "vocab_size = 8000\n",
    "\n",
    "with open(temp_file, 'w') as f:\n",
    "    for row in filtered_corpus:   # 이전 스텝에서 정제했던 corpus를 활용.\n",
    "        f.write(str(row) + '\\n')\n",
    "\n",
    "spm.SentencePieceTrainer.Train(\n",
    "    '--input={} --model_prefix=korean_spm --vocab_size={}'.format(temp_file, vocab_size)    \n",
    ")\n",
    "#위 Train에서  --model_type = 'unigram'이 디폴트 적용되어 있음.\n",
    "# --model_type = 'bpe' 로 옵션을 주어 변경할 수 있음.\n",
    "\n",
    "!ls -l korean_spm*"
   ]
  },
  {
   "cell_type": "code",
   "execution_count": 3,
   "id": "952a38e3",
   "metadata": {},
   "outputs": [
    {
     "ename": "OSError",
     "evalue": "Not found: \"korean_spm.model\": No such file or directory Error #2",
     "output_type": "error",
     "traceback": [
      "\u001b[0;31m---------------------------------------------------------------------------\u001b[0m",
      "\u001b[0;31mOSError\u001b[0m                                   Traceback (most recent call last)",
      "\u001b[0;32m/tmp/ipykernel_33/444265515.py\u001b[0m in \u001b[0;36m<module>\u001b[0;34m\u001b[0m\n\u001b[1;32m      1\u001b[0m \u001b[0ms\u001b[0m \u001b[0;34m=\u001b[0m \u001b[0mspm\u001b[0m\u001b[0;34m.\u001b[0m\u001b[0mSentencePieceProcessor\u001b[0m\u001b[0;34m(\u001b[0m\u001b[0;34m)\u001b[0m\u001b[0;34m\u001b[0m\u001b[0;34m\u001b[0m\u001b[0m\n\u001b[0;32m----> 2\u001b[0;31m \u001b[0ms\u001b[0m\u001b[0;34m.\u001b[0m\u001b[0mLoad\u001b[0m\u001b[0;34m(\u001b[0m\u001b[0;34m'korean_spm.model'\u001b[0m\u001b[0;34m)\u001b[0m\u001b[0;34m\u001b[0m\u001b[0;34m\u001b[0m\u001b[0m\n\u001b[0m\u001b[1;32m      3\u001b[0m \u001b[0;34m\u001b[0m\u001b[0m\n\u001b[1;32m      4\u001b[0m \u001b[0;31m# SentencePiece를 활용한 sentence -> encoding\u001b[0m\u001b[0;34m\u001b[0m\u001b[0;34m\u001b[0m\u001b[0m\n\u001b[1;32m      5\u001b[0m \u001b[0mtokensIDs\u001b[0m \u001b[0;34m=\u001b[0m \u001b[0ms\u001b[0m\u001b[0;34m.\u001b[0m\u001b[0mEncodeAsIds\u001b[0m\u001b[0;34m(\u001b[0m\u001b[0;34m'아버지가방에들어가신다.'\u001b[0m\u001b[0;34m)\u001b[0m\u001b[0;34m\u001b[0m\u001b[0;34m\u001b[0m\u001b[0m\n",
      "\u001b[0;32m/opt/conda/lib/python3.9/site-packages/sentencepiece/__init__.py\u001b[0m in \u001b[0;36mLoad\u001b[0;34m(self, model_file, model_proto)\u001b[0m\n\u001b[1;32m    365\u001b[0m       \u001b[0;32mif\u001b[0m \u001b[0mmodel_proto\u001b[0m\u001b[0;34m:\u001b[0m\u001b[0;34m\u001b[0m\u001b[0;34m\u001b[0m\u001b[0m\n\u001b[1;32m    366\u001b[0m         \u001b[0;32mreturn\u001b[0m \u001b[0mself\u001b[0m\u001b[0;34m.\u001b[0m\u001b[0mLoadFromSerializedProto\u001b[0m\u001b[0;34m(\u001b[0m\u001b[0mmodel_proto\u001b[0m\u001b[0;34m)\u001b[0m\u001b[0;34m\u001b[0m\u001b[0;34m\u001b[0m\u001b[0m\n\u001b[0;32m--> 367\u001b[0;31m       \u001b[0;32mreturn\u001b[0m \u001b[0mself\u001b[0m\u001b[0;34m.\u001b[0m\u001b[0mLoadFromFile\u001b[0m\u001b[0;34m(\u001b[0m\u001b[0mmodel_file\u001b[0m\u001b[0;34m)\u001b[0m\u001b[0;34m\u001b[0m\u001b[0;34m\u001b[0m\u001b[0m\n\u001b[0m\u001b[1;32m    368\u001b[0m \u001b[0;34m\u001b[0m\u001b[0m\n\u001b[1;32m    369\u001b[0m \u001b[0;34m\u001b[0m\u001b[0m\n",
      "\u001b[0;32m/opt/conda/lib/python3.9/site-packages/sentencepiece/__init__.py\u001b[0m in \u001b[0;36mLoadFromFile\u001b[0;34m(self, arg)\u001b[0m\n\u001b[1;32m    169\u001b[0m \u001b[0;34m\u001b[0m\u001b[0m\n\u001b[1;32m    170\u001b[0m     \u001b[0;32mdef\u001b[0m \u001b[0mLoadFromFile\u001b[0m\u001b[0;34m(\u001b[0m\u001b[0mself\u001b[0m\u001b[0;34m,\u001b[0m \u001b[0marg\u001b[0m\u001b[0;34m)\u001b[0m\u001b[0;34m:\u001b[0m\u001b[0;34m\u001b[0m\u001b[0;34m\u001b[0m\u001b[0m\n\u001b[0;32m--> 171\u001b[0;31m         \u001b[0;32mreturn\u001b[0m \u001b[0m_sentencepiece\u001b[0m\u001b[0;34m.\u001b[0m\u001b[0mSentencePieceProcessor_LoadFromFile\u001b[0m\u001b[0;34m(\u001b[0m\u001b[0mself\u001b[0m\u001b[0;34m,\u001b[0m \u001b[0marg\u001b[0m\u001b[0;34m)\u001b[0m\u001b[0;34m\u001b[0m\u001b[0;34m\u001b[0m\u001b[0m\n\u001b[0m\u001b[1;32m    172\u001b[0m \u001b[0;34m\u001b[0m\u001b[0m\n\u001b[1;32m    173\u001b[0m     \u001b[0;32mdef\u001b[0m \u001b[0mDecodeIdsWithCheck\u001b[0m\u001b[0;34m(\u001b[0m\u001b[0mself\u001b[0m\u001b[0;34m,\u001b[0m \u001b[0mids\u001b[0m\u001b[0;34m)\u001b[0m\u001b[0;34m:\u001b[0m\u001b[0;34m\u001b[0m\u001b[0;34m\u001b[0m\u001b[0m\n",
      "\u001b[0;31mOSError\u001b[0m: Not found: \"korean_spm.model\": No such file or directory Error #2"
     ]
    }
   ],
   "source": [
    "s = spm.SentencePieceProcessor()\n",
    "s.Load('korean_spm.model')\n",
    "\n",
    "# SentencePiece를 활용한 sentence -> encoding\n",
    "tokensIDs = s.EncodeAsIds('아버지가방에들어가신다.')\n",
    "print(tokensIDs)\n",
    "\n",
    "# SentencePiece를 활용한 sentence -> encoded pieces\n",
    "print(s.SampleEncodeAsPieces('아버지가방에들어가신다.',1, 0.0))\n",
    "\n",
    "# SentencePiece를 활용한 encoding -> sentence 복원\n",
    "print(s.DecodeIds(tokensIDs))"
   ]
  },
  {
   "cell_type": "markdown",
   "id": "f42c109b",
   "metadata": {},
   "source": [
    "## Step 3. Tokenizer 함수 작성"
   ]
  },
  {
   "cell_type": "code",
   "execution_count": 46,
   "id": "32e41a29",
   "metadata": {},
   "outputs": [],
   "source": [
    "def sp_tokenize(s, corpus):\n",
    "\n",
    "    tensor = []\n",
    "\n",
    "    for sen in corpus:\n",
    "        tensor.append(s.EncodeAsIds(sen))\n",
    "\n",
    "    with open(\"./korean_spm.vocab\", 'r') as f:\n",
    "        vocab = f.readlines()\n",
    "\n",
    "    word_index = {}\n",
    "    index_word = {}\n",
    "\n",
    "    for idx, line in enumerate(vocab):\n",
    "        word = line.split(\"\\t\")[0]\n",
    "\n",
    "        word_index.update({idx:word})\n",
    "        index_word.update({word:idx})\n",
    "\n",
    "    tensor = tf.keras.preprocessing.sequence.pad_sequences(tensor, padding='post')\n",
    "\n",
    "    return tensor, word_index, index_word"
   ]
  },
  {
   "cell_type": "code",
   "execution_count": 47,
   "id": "e9f75f93",
   "metadata": {},
   "outputs": [
    {
     "ename": "FileNotFoundError",
     "evalue": "[Errno 2] No such file or directory: './korean_spm.vocab'",
     "output_type": "error",
     "traceback": [
      "\u001b[0;31m---------------------------------------------------------------------------\u001b[0m",
      "\u001b[0;31mFileNotFoundError\u001b[0m                         Traceback (most recent call last)",
      "\u001b[0;32m/tmp/ipykernel_33/2775304834.py\u001b[0m in \u001b[0;36m<module>\u001b[0;34m\u001b[0m\n\u001b[1;32m      2\u001b[0m \u001b[0;34m\u001b[0m\u001b[0m\n\u001b[1;32m      3\u001b[0m \u001b[0mmy_corpus\u001b[0m \u001b[0;34m=\u001b[0m \u001b[0;34m[\u001b[0m\u001b[0;34m'나는 밥을 먹었습니다.'\u001b[0m\u001b[0;34m,\u001b[0m \u001b[0;34m'그러나 여전히 ㅠㅠ 배가 고픕니다...'\u001b[0m\u001b[0;34m]\u001b[0m\u001b[0;34m\u001b[0m\u001b[0;34m\u001b[0m\u001b[0m\n\u001b[0;32m----> 4\u001b[0;31m \u001b[0mtensor\u001b[0m\u001b[0;34m,\u001b[0m \u001b[0mword_index\u001b[0m\u001b[0;34m,\u001b[0m \u001b[0mindex_word\u001b[0m \u001b[0;34m=\u001b[0m \u001b[0msp_tokenize\u001b[0m\u001b[0;34m(\u001b[0m\u001b[0ms\u001b[0m\u001b[0;34m,\u001b[0m \u001b[0mmy_corpus\u001b[0m\u001b[0;34m)\u001b[0m\u001b[0;34m\u001b[0m\u001b[0;34m\u001b[0m\u001b[0m\n\u001b[0m\u001b[1;32m      5\u001b[0m \u001b[0mprint\u001b[0m\u001b[0;34m(\u001b[0m\u001b[0mtensor\u001b[0m\u001b[0;34m)\u001b[0m\u001b[0;34m\u001b[0m\u001b[0;34m\u001b[0m\u001b[0m\n\u001b[1;32m      6\u001b[0m \u001b[0;31m# print(word_index)\u001b[0m\u001b[0;34m\u001b[0m\u001b[0;34m\u001b[0m\u001b[0m\n",
      "\u001b[0;32m/tmp/ipykernel_33/2828170821.py\u001b[0m in \u001b[0;36msp_tokenize\u001b[0;34m(s, corpus)\u001b[0m\n\u001b[1;32m      6\u001b[0m         \u001b[0mtensor\u001b[0m\u001b[0;34m.\u001b[0m\u001b[0mappend\u001b[0m\u001b[0;34m(\u001b[0m\u001b[0ms\u001b[0m\u001b[0;34m.\u001b[0m\u001b[0mEncodeAsIds\u001b[0m\u001b[0;34m(\u001b[0m\u001b[0msen\u001b[0m\u001b[0;34m)\u001b[0m\u001b[0;34m)\u001b[0m\u001b[0;34m\u001b[0m\u001b[0;34m\u001b[0m\u001b[0m\n\u001b[1;32m      7\u001b[0m \u001b[0;34m\u001b[0m\u001b[0m\n\u001b[0;32m----> 8\u001b[0;31m     \u001b[0;32mwith\u001b[0m \u001b[0mopen\u001b[0m\u001b[0;34m(\u001b[0m\u001b[0;34m\"./korean_spm.vocab\"\u001b[0m\u001b[0;34m,\u001b[0m \u001b[0;34m'r'\u001b[0m\u001b[0;34m)\u001b[0m \u001b[0;32mas\u001b[0m \u001b[0mf\u001b[0m\u001b[0;34m:\u001b[0m\u001b[0;34m\u001b[0m\u001b[0;34m\u001b[0m\u001b[0m\n\u001b[0m\u001b[1;32m      9\u001b[0m         \u001b[0mvocab\u001b[0m \u001b[0;34m=\u001b[0m \u001b[0mf\u001b[0m\u001b[0;34m.\u001b[0m\u001b[0mreadlines\u001b[0m\u001b[0;34m(\u001b[0m\u001b[0;34m)\u001b[0m\u001b[0;34m\u001b[0m\u001b[0;34m\u001b[0m\u001b[0m\n\u001b[1;32m     10\u001b[0m \u001b[0;34m\u001b[0m\u001b[0m\n",
      "\u001b[0;31mFileNotFoundError\u001b[0m: [Errno 2] No such file or directory: './korean_spm.vocab'"
     ]
    }
   ],
   "source": [
    "#sp_tokenize(s, corpus) 사용예제\n",
    "\n",
    "my_corpus = ['나는 밥을 먹었습니다.', '그러나 여전히 ㅠㅠ 배가 고픕니다...']\n",
    "tensor, word_index, index_word = sp_tokenize(s, my_corpus)\n",
    "print(tensor)\n",
    "# print(word_index)\n",
    "# print(index_word)"
   ]
  },
  {
   "cell_type": "markdown",
   "id": "38bfa681",
   "metadata": {},
   "source": [
    "## Step 4. 네이버 영화리뷰 감정분석 문제에 SentencePiece 적용해 보기\n",
    "\n",
    "- [네이버 영화리뷰 감정분석 태스크](https://github.com/e9t/nsmc/)\n",
    "- 한국어로 된 코퍼스를 다루어야 하므로 주로 KoNLPy에서 제공하는 형태소 분석기를 사용하여 텍스트를 전저치래서 RNN 모델을 분류기로 사용했을 것이다.\n",
    "- 만약 이 문제에서 tokenizer를 sentencepiece로 바꿔 다시 풀어본다면 성능이 좋아질지 비교해보자.\n",
    "\n",
    "> - 네이버 영화리뷰 감정분석 코퍼스에 sentencepiece를 적용시킨 모델 학습하기\n",
    "> - 학습된 모델로 sp_tokenize() 메소드 구현하기\n",
    "> - 구현된 토크나이저를 적용하여 네이버 영화리뷰 감정분석 모델을 재학습하기\n",
    "> - KoNLPy 형태소 분석기를 사용한 모델과 성능 비교하기\n",
    "> - (보너스) SentencePiece 모델의 model_type, vocab_size 등을 변경해 가면서 성능 개선 여부 확인하기\n",
    "> - Word Vector는 활용할 필요가 없고 활용이 가능하지도 않을 것이다.\n",
    "> - 머지 않아 SentencePiece와 BERT 등의 pretrained 모델을 함께 활용하는 태스크를 다루게 될 것이다."
   ]
  },
  {
   "cell_type": "code",
   "execution_count": 48,
   "id": "ab0f3a97",
   "metadata": {},
   "outputs": [
    {
     "name": "stdout",
     "output_type": "stream",
     "text": [
      "--2024-07-01 06:50:56--  https://raw.githubusercontent.com/e9t/nsmc/master/ratings_train.txt\n",
      "Resolving raw.githubusercontent.com (raw.githubusercontent.com)... 185.199.108.133, 185.199.109.133, 185.199.110.133, ...\n",
      "Connecting to raw.githubusercontent.com (raw.githubusercontent.com)|185.199.108.133|:443... connected.\n",
      "HTTP request sent, awaiting response... 200 OK\n",
      "Length: 14628807 (14M) [text/plain]\n",
      "Saving to: ‘ratings_train.txt’\n",
      "\n",
      "ratings_train.txt   100%[===================>]  13.95M  --.-KB/s    in 0.08s   \n",
      "\n",
      "2024-07-01 06:50:56 (174 MB/s) - ‘ratings_train.txt’ saved [14628807/14628807]\n",
      "\n",
      "--2024-07-01 06:50:57--  https://raw.githubusercontent.com/e9t/nsmc/master/ratings_test.txt\n",
      "Resolving raw.githubusercontent.com (raw.githubusercontent.com)... 185.199.108.133, 185.199.109.133, 185.199.110.133, ...\n",
      "Connecting to raw.githubusercontent.com (raw.githubusercontent.com)|185.199.108.133|:443... connected.\n",
      "HTTP request sent, awaiting response... 200 OK\n",
      "Length: 4893335 (4.7M) [application/octet-stream]\n",
      "Saving to: ‘ratings_test.txt’\n",
      "\n",
      "ratings_test.txt    100%[===================>]   4.67M  --.-KB/s    in 0.06s   \n",
      "\n",
      "2024-07-01 06:50:58 (79.8 MB/s) - ‘ratings_test.txt’ saved [4893335/4893335]\n",
      "\n"
     ]
    }
   ],
   "source": [
    "!wget https://raw.githubusercontent.com/e9t/nsmc/master/ratings_train.txt\n",
    "!wget https://raw.githubusercontent.com/e9t/nsmc/master/ratings_test.txt\n",
    "!mv ratings_*.txt ~/aiffel/sp_tokenizer/data"
   ]
  },
  {
   "cell_type": "code",
   "execution_count": 49,
   "id": "87911ad3",
   "metadata": {},
   "outputs": [
    {
     "name": "stdout",
     "output_type": "stream",
     "text": [
      "train 데이터 사이즈: 150000\n",
      "test 데이터 사이즈: 50000\n"
     ]
    },
    {
     "data": {
      "text/html": [
       "<div>\n",
       "<style scoped>\n",
       "    .dataframe tbody tr th:only-of-type {\n",
       "        vertical-align: middle;\n",
       "    }\n",
       "\n",
       "    .dataframe tbody tr th {\n",
       "        vertical-align: top;\n",
       "    }\n",
       "\n",
       "    .dataframe thead th {\n",
       "        text-align: right;\n",
       "    }\n",
       "</style>\n",
       "<table border=\"1\" class=\"dataframe\">\n",
       "  <thead>\n",
       "    <tr style=\"text-align: right;\">\n",
       "      <th></th>\n",
       "      <th>id</th>\n",
       "      <th>document</th>\n",
       "      <th>label</th>\n",
       "    </tr>\n",
       "  </thead>\n",
       "  <tbody>\n",
       "    <tr>\n",
       "      <th>0</th>\n",
       "      <td>9976970</td>\n",
       "      <td>아 더빙.. 진짜 짜증나네요 목소리</td>\n",
       "      <td>0</td>\n",
       "    </tr>\n",
       "    <tr>\n",
       "      <th>1</th>\n",
       "      <td>3819312</td>\n",
       "      <td>흠...포스터보고 초딩영화줄....오버연기조차 가볍지 않구나</td>\n",
       "      <td>1</td>\n",
       "    </tr>\n",
       "    <tr>\n",
       "      <th>2</th>\n",
       "      <td>10265843</td>\n",
       "      <td>너무재밓었다그래서보는것을추천한다</td>\n",
       "      <td>0</td>\n",
       "    </tr>\n",
       "    <tr>\n",
       "      <th>3</th>\n",
       "      <td>9045019</td>\n",
       "      <td>교도소 이야기구먼 ..솔직히 재미는 없다..평점 조정</td>\n",
       "      <td>0</td>\n",
       "    </tr>\n",
       "    <tr>\n",
       "      <th>4</th>\n",
       "      <td>6483659</td>\n",
       "      <td>사이몬페그의 익살스런 연기가 돋보였던 영화!스파이더맨에서 늙어보이기만 했던 커스틴 ...</td>\n",
       "      <td>1</td>\n",
       "    </tr>\n",
       "  </tbody>\n",
       "</table>\n",
       "</div>"
      ],
      "text/plain": [
       "         id                                           document  label\n",
       "0   9976970                                아 더빙.. 진짜 짜증나네요 목소리      0\n",
       "1   3819312                  흠...포스터보고 초딩영화줄....오버연기조차 가볍지 않구나      1\n",
       "2  10265843                                  너무재밓었다그래서보는것을추천한다      0\n",
       "3   9045019                      교도소 이야기구먼 ..솔직히 재미는 없다..평점 조정      0\n",
       "4   6483659  사이몬페그의 익살스런 연기가 돋보였던 영화!스파이더맨에서 늙어보이기만 했던 커스틴 ...      1"
      ]
     },
     "execution_count": 49,
     "metadata": {},
     "output_type": "execute_result"
    }
   ],
   "source": [
    "import pandas as pd\n",
    "import urllib.request\n",
    "%matplotlib inline\n",
    "import matplotlib.pyplot as plt\n",
    "import re\n",
    "from konlpy.tag import Okt\n",
    "from tensorflow import keras\n",
    "import tensorflow as tf\n",
    "from tensorflow.keras.preprocessing.text import Tokenizer\n",
    "import numpy as np\n",
    "from tensorflow.keras.preprocessing.sequence import pad_sequences\n",
    "from collections import Counter\n",
    "\n",
    "# 데이터를 읽어오기\n",
    "train_data = pd.read_table('~/aiffel/sp_tokenizer/data/ratings_train.txt')\n",
    "test_data = pd.read_table('~/aiffel/sp_tokenizer/data/ratings_test.txt')\n",
    "\n",
    "print('train 데이터 사이즈:', len(train_data))\n",
    "print('test 데이터 사이즈:', len(test_data))\n",
    "\n",
    "train_data.head()"
   ]
  },
  {
   "cell_type": "code",
   "execution_count": 50,
   "id": "5cff22b4",
   "metadata": {},
   "outputs": [
    {
     "name": "stdout",
     "output_type": "stream",
     "text": [
      "train 데이터 사이즈: 146182\n",
      "test 데이터 사이즈: 49157\n"
     ]
    }
   ],
   "source": [
    "# 중복 및 결측치 제거\n",
    "train_data.drop_duplicates(subset=['document'], inplace=True)\n",
    "train_data = train_data.dropna(how = 'any') \n",
    "test_data.drop_duplicates(subset=['document'], inplace=True)\n",
    "test_data = test_data.dropna(how = 'any') \n",
    "\n",
    "print('train 데이터 사이즈:', len(train_data))\n",
    "print('test 데이터 사이즈:', len(test_data))"
   ]
  },
  {
   "cell_type": "code",
   "execution_count": 51,
   "id": "3bfaea4c",
   "metadata": {},
   "outputs": [
    {
     "name": "stdout",
     "output_type": "stream",
     "text": [
      "Data Size: 195339\n",
      "Example:\n",
      ">> 아 더빙.. 진짜 짜증나네요 목소리\n",
      ">> 나름 심오한 뜻도 있는 듯. 그냥 학생이 선생과 놀아나는 영화는 절대 아님\n",
      ">> 단순하면서 은은한 매력의 영화\n",
      ">> 보는내내 그대로 들어맞는 예측 카리스마 없는 악역\n",
      ">> 뭐냐..시작하고 3분만에 나왔다. 리플릿 사진 보며 불안하더니만..\n"
     ]
    }
   ],
   "source": [
    "data = list(train_data['document']) + list(test_data['document'])\n",
    "\n",
    "print(\"Data Size:\", len(data))\n",
    "\n",
    "print(\"Example:\")\n",
    "for sen in data[0:100][::20]: print(\">>\", sen)"
   ]
  },
  {
   "cell_type": "code",
   "execution_count": 52,
   "id": "e80b22bb",
   "metadata": {},
   "outputs": [
    {
     "name": "stdout",
     "output_type": "stream",
     "text": [
      "문장의 최단 길이: 1\n",
      "문장의 최장 길이: 146\n",
      "문장의 평균 길이: 35\n"
     ]
    },
    {
     "name": "stderr",
     "output_type": "stream",
     "text": [
      "/tmp/ipykernel_33/4031225536.py:16: DeprecationWarning: `np.int` is a deprecated alias for the builtin `int`. To silence this warning, use `int` by itself. Doing this will not modify any behavior and is safe. When replacing `np.int`, you may wish to use e.g. `np.int64` or `np.int32` to specify the precision. If you wish to review your current use, check the release note link for additional information.\n",
      "Deprecated in NumPy 1.20; for more details and guidance: https://numpy.org/devdocs/release/1.20.0-notes.html#deprecations\n",
      "  sentence_length = np.zeros((max_len), dtype=np.int)\n"
     ]
    },
    {
     "data": {
      "image/png": "[encoded data removed]",
      "text/plain": [
       "<Figure size 432x288 with 1 Axes>"
      ]
     },
     "metadata": {
      "needs_background": "light"
     },
     "output_type": "display_data"
    }
   ],
   "source": [
    "# 문장의 최단 길이, 최장 길이, 평균 길이를 구한 후 문장 길이분포를 막대그래프로 표현해주는 소스\n",
    "min_len = 999\n",
    "max_len = 0\n",
    "sum_len = 0\n",
    "\n",
    "for sen in data: \n",
    "    length = len(sen)\n",
    "    if min_len > length: min_len = length\n",
    "    if max_len < length: max_len = length\n",
    "    sum_len += length\n",
    "\n",
    "print(\"문장의 최단 길이:\", min_len)\n",
    "print(\"문장의 최장 길이:\", max_len)\n",
    "print(\"문장의 평균 길이:\", sum_len // len(data))\n",
    "\n",
    "sentence_length = np.zeros((max_len), dtype=np.int)\n",
    "\n",
    "for sen in data:\n",
    "    sentence_length[len(sen)-1] += 1\n",
    "\n",
    "plt.bar(range(max_len), sentence_length, width=1.0)\n",
    "plt.title(\"Sentence Length Distribution\")\n",
    "plt.show()"
   ]
  },
  {
   "cell_type": "code",
   "execution_count": 53,
   "id": "453d2a7f",
   "metadata": {},
   "outputs": [
    {
     "name": "stdout",
     "output_type": "stream",
     "text": [
      "아\n",
      "잼\n",
      "1\n",
      "4\n",
      "굿\n",
      "짱\n",
      "휴\n",
      ".\n",
      "음\n",
      "?\n",
      "ㅎ\n",
      "ㅋ\n",
      "즐\n",
      "♥\n",
      "굳\n",
      "네\n",
      "ㅇ\n",
      "k\n",
      "ㅠ\n",
      "쒯\n",
      "♬\n",
      "토\n",
      "O\n",
      "똥\n",
      "z\n",
      "헐\n",
      "삼\n",
      "꽝\n",
      "!\n",
      "풉\n",
      "ㅅ\n",
      "왜\n",
      "ㄴ\n",
      "쉣\n",
      "봐\n",
      "뿌\n",
      "ㅜ\n",
      "♡\n",
      "ㅁ\n",
      "0\n",
      "ㅉ\n",
      "d\n",
      "흥\n",
      "乃\n",
      "찜\n",
      "귯\n",
      "린\n",
      "시\n",
      "ㅗ\n",
      "a\n",
      "c\n",
      "흠\n",
      "웅\n",
      "ㅣ\n",
      "오\n",
      "9\n",
      "쩜\n",
      "애\n",
      "헝\n",
      "쨩\n",
      "f\n",
      "움\n",
      "ㄳ\n",
      "업\n",
      "헉\n",
      "군\n",
      "b\n",
      ";\n",
      "g\n",
      "올\n",
      "걍\n",
      "허\n",
      "-\n",
      "쀍\n",
      "로\n",
      "ㄹ\n",
      "ㅂ\n",
      "갑\n",
      "즛\n",
      "킥\n",
      "함\n",
      "진\n",
      "ㅡ\n",
      "잠\n",
      "곧\n",
      "ㅍ\n",
      "h\n",
      "·\n",
      "캬\n",
      "ㅆ\n",
      ",\n",
      "풋\n",
      "ㄱ\n",
      "파\n",
      "ㄷ\n",
      "웩\n",
      "꺅\n",
      "욜\n",
      "ㅄ\n",
      "2\n",
      "핡\n",
      "-------------------------------------\n",
      "\"스폰으로 먹고사는 방송이라 어쩔수 없다고 하지만. 이건 그냥 비현실적인 자동차만;...독일3사&슈퍼카 홍보 프로그램도 아니구.대중적인 자동차 방송으로 이루어 졌으면 합니다. 보는내내 \"\"카탈로그 책자\"\"를 \"\"동영상으로 보여주는 방송\"\" 같아서 씁쓸하네요.!\"\n",
      "\"\"\"니 짓은 생각않고, 웬 복수!\"\"의 교훈이라! 그럼 \"\"서바이벌 액션\"\"으로 홍보하면 안되지! 초반 45분은 멋지게 열더니.. 억지 반전, 하드고어로 시간끌다가, 허둥지둥 화해로 끝내버리네. 90분 러닝타임에 엔딩자막만 11분 틀어주는 해괴망측한 영화~!\"\n",
      "\"2007.02.25_ 벌교의 한 국밥집_ 점심: \"\"갸는 첫째고, 저 놈은 우리 둘째~\"\" 재문: \"\"아줌마! 미안해~ 그냥.. 아줌마! 나 그 남방 잘 어울려ㅠ_ㅠ?\"\" 대식에게 복수하려던 1주일 전_ 대식의 엄마를 먼저 만났다. 사랑의 꽃남방도..^-^o\"\n"
     ]
    }
   ],
   "source": [
    "# 길이 체크 함수로 문장 길이 확인하기\n",
    "def check_sentence_with_length(raw, length):\n",
    "    count = 0\n",
    "    \n",
    "    for sen in raw:\n",
    "        if len(sen) == length:\n",
    "            print(sen)\n",
    "            count += 1\n",
    "            if count > 100: return\n",
    "\n",
    "# 훈련 데이터 길이가 1인 문장 확인해보기            \n",
    "check_sentence_with_length(data, 1)\n",
    "print(\"-------------------------------------\")\n",
    "# 훈련 데이터 길이가 146인 문장 확인해보기            \n",
    "check_sentence_with_length(data, 146)"
   ]
  },
  {
   "cell_type": "code",
   "execution_count": 54,
   "id": "1adfe498",
   "metadata": {},
   "outputs": [
    {
     "name": "stdout",
     "output_type": "stream",
     "text": [
      "Outlier Index: 12\n",
      "Outlier Index: 13\n",
      "Outlier Index: 14\n",
      "Outlier Index: 15\n",
      "Outlier Index: 16\n",
      "Outlier Index: 17\n"
     ]
    }
   ],
   "source": [
    "# 길이 별로 확인이 필요해보이는 문장 확인하기\n",
    "for idx, _sum in enumerate(sentence_length):\n",
    "    # 문장 내 단어의 개수가 5000을 초과하는 인덱스를 추출\n",
    "    if _sum > 5000:\n",
    "        print(\"Outlier Index:\", idx+1)"
   ]
  },
  {
   "cell_type": "code",
   "execution_count": 55,
   "id": "20ef0807",
   "metadata": {},
   "outputs": [
    {
     "name": "stdout",
     "output_type": "stream",
     "text": [
      "아햏햏 아햏햏 아햏햏.\n",
      "단연 최고라고 할수있지\n",
      "용가리 진짜짱짱맨이다ㅋ\n",
      "나름 괜찮은 작품입니다\n",
      "정말 실망 스러웟음..\n",
      "무술인이 왜 총을드나?\n",
      "너무너무 훈훈하네요^^\n",
      "현실은 꿈, 꿈은 현실\n",
      "답없네, 뭐하는건지..\n",
      "엔딩이 넘 슬퍼요 :(\n",
      "감동감동감동의 도가니탕\n",
      "정말 최고의 영화...\n",
      "진짜 짜증나는 영화..\n",
      "상당히 재밌게 봤습니다\n",
      "영상미가 역시 최고네요\n",
      "감독ㅡㅡ다신영화찍지마라\n",
      "이런 영화가 참 좋다.\n",
      "정말 광해와 비슷한가?\n",
      "더빙이 똥이야 ....\n",
      "잠을 청할 수 있었다.\n",
      "나오코 진짜 집중안된다\n",
      "샬라샬라 나오다즁자쥬아\n",
      "지루하다.. 지루해..\n",
      "사과해요, 나한테!!!\n",
      "소재가 굉장히 신선했다\n",
      "솔직히 산만 하기만했다\n",
      "OST가 좋은 영화!!\n",
      "기적은 이미 일어났다.\n",
      "답을 알려고 하지마라.\n",
      "평점은 믿지마셈 재밌음\n",
      "재미 드럽게 없다ㅋㅋㅋ\n",
      "자식을 그렇게 때리냐?\n",
      "감동적이였고 좋았습니다\n",
      "울컥하는 사회현실 ㅠㅠ\n",
      "등장인물들 모두 짱~~\n",
      "막장드라마가 따로없구만\n",
      "말 필요엄따~~~~진정\n",
      "꿀잼 영화 추억이다ㅜㅜ\n",
      "맞추자 ㅍ?차븟ㅇㄱ디시\n",
      "순수하고 아름답다 :)\n",
      "변태적 성욕 자기합리화\n",
      "흠....나름 갠찬네요\n",
      "걍 10점 이라길래..\n",
      "실력이 필요없는 상황.\n",
      "감동과 웃음을 한방에!\n",
      "이거야 이거 ㅋㅋㅋㅋㅋ\n",
      "성동일딸 시르다...참\n",
      "평점알바들을 위해 1점\n",
      "볼만합니다 강추!!ㅋㅋ\n",
      "이거말고 겨울왕국을봐라\n",
      "좋은니다..^.,^~~\n",
      "2.3 (10자 제한)\n",
      "아무도 안달았네..ㄷㄷ\n",
      "엉성하고 어설프고...\n",
      "그냥 보통으로 보았다.\n",
      "너무 슬픈영화..울음ㅠ\n",
      "으리는 개뿔 ㅡ,.ㅡ^\n",
      "처음 본 에로 영화..\n",
      "평점 조정을 위해...\n",
      "그냥 쓰레기지 쓰레기~\n",
      "쵝오네요 최고 대박영화\n",
      "유전무죄 무전유죄!!!\n",
      "의외의 꿀잼 이였습니다\n",
      "어차피 우승은 송민호~\n",
      "이 때부터가 쓰레기였지\n",
      "완전 찝찝한 영화...\n",
      "이상형이 바뀌었습니다.\n",
      "역시 산드라블록 누님!\n",
      "결국 엄마가 죽인거네?\n",
      "그냥 그저 별시리...\n",
      "추천할만한 경제영화였음\n",
      "제대로 알아야할 역사임\n",
      "일본판이더재미있음...\n",
      "역시 재미있군요 >ㅁ<\n",
      "아깝다 나의 1점도ㅡㅡ\n",
      "마음이 따뜻해지는 영화\n",
      "죽었다. 참 재미없다.\n",
      "최고, 정말 최고다,,\n",
      "공유 보려고 보는 영화\n",
      "재밌습니다. 꿀잼 ㅋㅋ\n",
      "조정래와 임권택의 만남\n",
      "간만에쓰레기영화보네요ㅋ\n",
      "너무재밌게 봤어요...\n",
      "의미가 뭘까...///\n",
      "이건 범죄 수준이다..\n",
      "박평식-뚜껑열린다ㅋㅋㅋ\n",
      "볼수록 재밌는 마의!!\n",
      "짱~ 오늘 티비로 봤음\n",
      "말없이 눈물이 뚝뚝..\n",
      "이렇게 유쾌할수가ㅋㅋㅋ\n",
      "완죤 지루하고 재미없네\n",
      "보다가 나가는 영화??\n",
      "에휴..........\n",
      "재미도 없구만...에효\n",
      "옥보단 3D보다 쓰레기\n",
      "반전이 꽤나 신선했다.\n",
      "허접허접허접허접허접허접\n",
      "독특한 유머. 재밌다.\n",
      "좀 식상한 스릴러영화~\n",
      "하하하핳하햐하핯하핳하하\n",
      "이영화 어디서 보나요?\n"
     ]
    }
   ],
   "source": [
    "check_sentence_with_length(data, 12)"
   ]
  },
  {
   "cell_type": "code",
   "execution_count": 56,
   "id": "9b11b0ba",
   "metadata": {},
   "outputs": [
    {
     "name": "stdout",
     "output_type": "stream",
     "text": [
      "Data Size: 194543\n",
      "문장의 최단 길이: 1\n",
      "문장의 최장 길이: 146\n",
      "문장의 평균 길이: 36\n"
     ]
    },
    {
     "name": "stderr",
     "output_type": "stream",
     "text": [
      "/tmp/ipykernel_33/614249671.py:19: DeprecationWarning: `np.int` is a deprecated alias for the builtin `int`. To silence this warning, use `int` by itself. Doing this will not modify any behavior and is safe. When replacing `np.int`, you may wish to use e.g. `np.int64` or `np.int32` to specify the precision. If you wish to review your current use, check the release note link for additional information.\n",
      "Deprecated in NumPy 1.20; for more details and guidance: https://numpy.org/devdocs/release/1.20.0-notes.html#deprecations\n",
      "  sentence_length = np.zeros((max_len), dtype=np.int)\n"
     ]
    },
    {
     "data": {
      "image/png": "[encoded data removed]",
      "text/plain": [
       "<Figure size 432x288 with 1 Axes>"
      ]
     },
     "metadata": {
      "needs_background": "light"
     },
     "output_type": "display_data"
    }
   ],
   "source": [
    "# 데이터에서 중복 제거하기\n",
    "min_len= 999\n",
    "max_len = 0\n",
    "sum_len = 0\n",
    "\n",
    "cleaned_corpus = list(set(data))  # set를 사용해서 중복을 제거\n",
    "print(\"Data Size:\", len(cleaned_corpus))\n",
    "\n",
    "for sen in cleaned_corpus:\n",
    "    length = len(sen)\n",
    "    if min_len > length: min_len = length\n",
    "    if max_len < length: max_len = length\n",
    "    sum_len += length\n",
    "\n",
    "print(\"문장의 최단 길이:\", min_len)\n",
    "print(\"문장의 최장 길이:\", max_len)\n",
    "print(\"문장의 평균 길이:\", sum_len // len(cleaned_corpus))\n",
    "\n",
    "sentence_length = np.zeros((max_len), dtype=np.int)\n",
    "\n",
    "for sen in cleaned_corpus:   # 중복이 제거된 코퍼스 기준\n",
    "    sentence_length[len(sen)-1] += 1\n",
    "\n",
    "plt.bar(range(max_len), sentence_length, width=1.0)\n",
    "plt.title(\"Sentence Length Distribution\")\n",
    "plt.show()"
   ]
  },
  {
   "cell_type": "code",
   "execution_count": 57,
   "id": "855399a8",
   "metadata": {},
   "outputs": [
    {
     "name": "stderr",
     "output_type": "stream",
     "text": [
      "/tmp/ipykernel_33/1021478995.py:9: DeprecationWarning: `np.int` is a deprecated alias for the builtin `int`. To silence this warning, use `int` by itself. Doing this will not modify any behavior and is safe. When replacing `np.int`, you may wish to use e.g. `np.int64` or `np.int32` to specify the precision. If you wish to review your current use, check the release note link for additional information.\n",
      "Deprecated in NumPy 1.20; for more details and guidance: https://numpy.org/devdocs/release/1.20.0-notes.html#deprecations\n",
      "  sentence_length = np.zeros((max_len), dtype=np.int)\n"
     ]
    },
    {
     "data": {
      "image/png": "[encoded data removed]",
      "text/plain": [
       "<Figure size 432x288 with 1 Axes>"
      ]
     },
     "metadata": {
      "needs_background": "light"
     },
     "output_type": "display_data"
    }
   ],
   "source": [
    "max_len = 110\n",
    "min_len = 1\n",
    "\n",
    "# 길이 조건에 맞는 문장만 선택\n",
    "filtered_corpus = [s for s in cleaned_corpus if (len(s) < max_len) & (len(s) >= min_len)]\n",
    "\n",
    "# 분포도를 다시 그려보자 \n",
    "# 아래 나온 그래프는 최종 데이터 분포\n",
    "sentence_length = np.zeros((max_len), dtype=np.int)\n",
    "\n",
    "for sen in filtered_corpus:\n",
    "    sentence_length[len(sen)-1] += 1\n",
    "\n",
    "plt.bar(range(max_len), sentence_length, width=1.0)\n",
    "plt.title(\"Sentence Length Distribution\")\n",
    "plt.show()"
   ]
  },
  {
   "cell_type": "markdown",
   "id": "0767a99c",
   "metadata": {},
   "source": [
    "### 네이버 영화리뷰 감정분석 코퍼스에 sentencepiece를 적용시킨 모델 학습하기\n",
    "\n",
    "- unigram과 bpe 타입 model 파일과 vocal 파일을 각각 하나씩 만들어서 확인해보자."
   ]
  },
  {
   "cell_type": "code",
   "execution_count": 59,
   "id": "9ac53871",
   "metadata": {},
   "outputs": [
    {
     "name": "stdout",
     "output_type": "stream",
     "text": [
      "-rw-r--r-- 1 root root 370594 Jul  1 07:34 naver_review_spm_bpe.model\r\n",
      "-rw-r--r-- 1 root root 115790 Jul  1 07:34 naver_review_spm_bpe.vocab\r\n",
      "-rw-r--r-- 1 root root 374970 Jul  1 07:33 naver_review_spm.model\r\n",
      "-rw-r--r-- 1 root root 144397 Jul  1 07:33 naver_review_spm.vocab\r\n"
     ]
    }
   ],
   "source": [
    "import sentencepiece as spm\n",
    "import os\n",
    "temp_file = os.getenv('HOME')+'/aiffel/sp_tokenizer/data/korean-english-park.train.ko.temp'\n",
    "\n",
    "vocab_size = 8000\n",
    "\n",
    "with open(temp_file, 'w') as f:\n",
    "    for row in filtered_corpus:   # 이전 스텝에서 정제했던 corpus를 활용\n",
    "        f.write(str(row) + '\\n')\n",
    "\n",
    "# 디폴트 --model_type = 'unigram'\n",
    "spm.SentencePieceTrainer.Train(\n",
    "    '--input={} --model_prefix=naver_review_spm --vocab_size={}'.format(temp_file, vocab_size)    \n",
    ")\n",
    "\n",
    "# --model_type = 'bpe'\n",
    "spm.SentencePieceTrainer.Train(\n",
    "    '--input={} --model_type=bpe --model_prefix=naver_review_spm_bpe --vocab_size={}'.format(temp_file, vocab_size)    \n",
    ")\n",
    "\n",
    "!ls -l naver_review_spm*"
   ]
  },
  {
   "cell_type": "markdown",
   "id": "00e69b38",
   "metadata": {},
   "source": [
    "#### Unigram 타입"
   ]
  },
  {
   "cell_type": "code",
   "execution_count": 60,
   "id": "11d48330",
   "metadata": {},
   "outputs": [
    {
     "name": "stdout",
     "output_type": "stream",
     "text": [
      "[1449, 9, 423, 15, 1429, 9, 138, 17, 4]\n",
      "['▁아버지', '가', '방', '에', '들어', '가', '신', '다', '.']\n",
      "아버지가방에들어가신다.\n"
     ]
    }
   ],
   "source": [
    "# sentencepiece 모델이 잘 적용됐는지 확인해보기\n",
    "s_uni = spm.SentencePieceProcessor() \n",
    "s_uni.Load('naver_review_spm.model') # unigram 타입 model\n",
    "\n",
    "# SentencePiece를 활용한 sentence -> encoding\n",
    "tokensIDs = s_uni.EncodeAsIds('아버지가방에들어가신다.')\n",
    "print(tokensIDs)\n",
    "\n",
    "# SentencePiece를 활용한 sentence -> encoded pieces\n",
    "print(s_uni.SampleEncodeAsPieces('아버지가방에들어가신다.',1, 0.0))\n",
    "\n",
    "# SentencePiece를 활용한 encoding -> sentence 복원\n",
    "print(s_uni.DecodeIds(tokensIDs))"
   ]
  },
  {
   "cell_type": "markdown",
   "id": "92fedb33",
   "metadata": {},
   "source": [
    "#### BPE 타입"
   ]
  },
  {
   "cell_type": "code",
   "execution_count": 61,
   "id": "853bbd1f",
   "metadata": {},
   "outputs": [
    {
     "name": "stdout",
     "output_type": "stream",
     "text": [
      "[4865, 905, 6548, 6284, 1466, 6280, 6385, 6274, 6272]\n",
      "['▁아버', '지가', '방', '에', '들어', '가', '신', '다', '.']\n",
      "아버지가방에들어가신다.\n"
     ]
    }
   ],
   "source": [
    "# sentencepiece 모델이 잘 적용됐는지 확인해보기\n",
    "s_bpe = spm.SentencePieceProcessor() \n",
    "s_bpe.Load('naver_review_spm_bpe.model') # bpe 타입 model\n",
    "\n",
    "# SentencePiece를 활용한 sentence -> encoding\n",
    "tokensIDs = s_bpe.EncodeAsIds('아버지가방에들어가신다.')\n",
    "print(tokensIDs)\n",
    "\n",
    "# SentencePiece를 활용한 sentence -> encoded pieces\n",
    "print(s_bpe.SampleEncodeAsPieces('아버지가방에들어가신다.',1, 0.0))\n",
    "\n",
    "# SentencePiece를 활용한 encoding -> sentence 복원\n",
    "print(s_bpe.DecodeIds(tokensIDs))"
   ]
  },
  {
   "cell_type": "markdown",
   "id": "3510c7b1",
   "metadata": {},
   "source": [
    "### 학습된 모델로 sp_tokenize() 메소드 구현하기\n",
    "\n",
    "#### Unigram 타입"
   ]
  },
  {
   "cell_type": "code",
   "execution_count": 62,
   "id": "aed4cfd3",
   "metadata": {},
   "outputs": [
    {
     "name": "stdout",
     "output_type": "stream",
     "text": [
      "[[   0    0    0    0    0    0    0    0    0    0    0    0    0    0\n",
      "     0    0    0    0    0    0    0    0    0    0    0    0    0    0\n",
      "     0    0    0    0    0    0    0    0    0    0    0    0    0    0\n",
      "     0    0    0    0    0    0    0    0    0    0    0    0    0    0\n",
      "     0    0    0    0    0    0    0    0    0    0    0    0    0    0\n",
      "     0    0    0    0    0    0    0    0    0    0    0    0    0    0\n",
      "     0    0    0    0    0    0    0    0    0    0  560 3200   14 1424\n",
      "  2263    4]\n",
      " [   0    0    0    0    0    0    0    0    0    0    0    0    0    0\n",
      "     0    0    0    0    0    0    0    0    0    0    0    0    0    0\n",
      "     0    0    0    0    0    0    0    0    0    0    0    0    0    0\n",
      "     0    0    0    0    0    0    0    0    0    0    0    0    0    0\n",
      "     0    0    0    0    0    0    0    0    0    0    0    0    0    0\n",
      "     0    0    0    0    0    0    0    0    0    0    0    0    0    0\n",
      "     0    0    0    0    0    0 1599 2329  263  574    9    3   16 7941\n",
      "   660    8]]\n"
     ]
    }
   ],
   "source": [
    "def sp_tokenize_uni(s_uni, corpus):\n",
    "\n",
    "    tensor = []\n",
    "\n",
    "    for sen in corpus:\n",
    "        tensor.append(s_uni.EncodeAsIds(sen))\n",
    "\n",
    "    with open(\"./naver_review_spm.vocab\", 'r') as f: # unigram 타입 vocab\n",
    "        vocab = f.readlines()\n",
    "\n",
    "    word_index = {}\n",
    "    index_word = {}\n",
    "\n",
    "    for idx, line in enumerate(vocab):\n",
    "        word = line.split(\"\\t\")[0]\n",
    "\n",
    "        word_index.update({idx:word})\n",
    "        index_word.update({word:idx})\n",
    "\n",
    "    tensor = tf.keras.preprocessing.sequence.pad_sequences(tensor, padding='pre', maxlen = 100)\n",
    "\n",
    "    return tensor, word_index, index_word\n",
    "\n",
    "#sp_tokenize(s, corpus) 사용예제로 확인해\n",
    "my_corpus = ['나는 밥을 먹었습니다.', '그러나 여전히 ㅠㅠ 배가 고픕니다...']\n",
    "tensor_uni, word_index_uni, index_word_uni = sp_tokenize_uni(s_uni, my_corpus)\n",
    "print(tensor_uni)"
   ]
  },
  {
   "cell_type": "code",
   "execution_count": 63,
   "id": "7c1b5fdb",
   "metadata": {},
   "outputs": [],
   "source": [
    "tensor_uni, word_index_uni, index_word_uni = sp_tokenize_uni(s_uni, data)"
   ]
  },
  {
   "cell_type": "code",
   "execution_count": 64,
   "id": "ea62e7cd",
   "metadata": {},
   "outputs": [
    {
     "name": "stdout",
     "output_type": "stream",
     "text": [
      "(195339, 100)\n"
     ]
    }
   ],
   "source": [
    "print(tensor_uni.shape)"
   ]
  },
  {
   "cell_type": "markdown",
   "id": "4632cdf9",
   "metadata": {},
   "source": [
    "#### BPE 타입"
   ]
  },
  {
   "cell_type": "code",
   "execution_count": 65,
   "id": "7a0bd57a",
   "metadata": {},
   "outputs": [
    {
     "name": "stdout",
     "output_type": "stream",
     "text": [
      "[[   0    0    0    0    0    0    0    0    0    0    0    0    0    0\n",
      "     0    0    0    0    0    0    0    0    0    0    0    0    0    0\n",
      "     0    0    0    0    0    0    0    0    0    0    0    0    0    0\n",
      "     0    0    0    0    0    0    0    0    0    0    0    0    0    0\n",
      "     0    0    0    0    0    0    0    0    0    0    0    0    0    0\n",
      "     0    0    0    0    0    0    0    0    0    0    0    0    0    0\n",
      "     0    0    0    0    0    0    0    0    0    0  724 2991 6301  566\n",
      "   827 6272]\n",
      " [   0    0    0    0    0    0    0    0    0    0    0    0    0    0\n",
      "     0    0    0    0    0    0    0    0    0    0    0    0    0    0\n",
      "     0    0    0    0    0    0    0    0    0    0    0    0    0    0\n",
      "     0    0    0    0    0    0    0    0    0    0    0    0    0    0\n",
      "     0    0    0    0    0    0    0    0    0    0    0    0    0    0\n",
      "     0    0    0    0    0    0    0    0    0    0    0    0    0    0\n",
      "     0    0    0    0    0    0    0 1709 2339  330  320 6280  155 7630\n",
      "    14    7]]\n"
     ]
    }
   ],
   "source": [
    "def sp_tokenize_bpe(s_bpe, corpus):\n",
    "\n",
    "    tensor = []\n",
    "\n",
    "    for sen in corpus:\n",
    "        tensor.append(s_bpe.EncodeAsIds(sen))\n",
    "\n",
    "    with open(\"./naver_review_spm_bpe.vocab\", 'r') as f: # bpe 타입 vocab\n",
    "        vocab = f.readlines()\n",
    "\n",
    "    word_index = {}\n",
    "    index_word = {}\n",
    "\n",
    "    for idx, line in enumerate(vocab):\n",
    "        word = line.split(\"\\t\")[0]\n",
    "\n",
    "        word_index.update({idx:word})\n",
    "        index_word.update({word:idx})\n",
    "\n",
    "    tensor = tf.keras.preprocessing.sequence.pad_sequences(tensor, padding='pre', maxlen = 100)\n",
    "\n",
    "    return tensor, word_index, index_word\n",
    "\n",
    "#sp_tokenize(s, corpus) 사용예제로 확인해\n",
    "my_corpus = ['나는 밥을 먹었습니다.', '그러나 여전히 ㅠㅠ 배가 고픕니다...']\n",
    "tensor_bpe, word_index_bpe, index_word_bpe = sp_tokenize_bpe(s_bpe, my_corpus)\n",
    "print(tensor_bpe)"
   ]
  },
  {
   "cell_type": "code",
   "execution_count": 66,
   "id": "9af9a08a",
   "metadata": {},
   "outputs": [],
   "source": [
    "tensor_bpe, word_index_bpe, index_word_bpe = sp_tokenize_bpe(s_bpe, data)"
   ]
  },
  {
   "cell_type": "code",
   "execution_count": 67,
   "id": "4d85b0e0",
   "metadata": {},
   "outputs": [
    {
     "name": "stdout",
     "output_type": "stream",
     "text": [
      "(195339, 100)\n"
     ]
    }
   ],
   "source": [
    "print(tensor_bpe.shape)"
   ]
  },
  {
   "cell_type": "markdown",
   "id": "de7ec5b5",
   "metadata": {},
   "source": [
    "### 구현된 토크나이저를 적용하여 네이버 영화리뷰 감정분석 모델을 재학습하기\n",
    "\n",
    "- Unigram 타입을 적용한 토크나이저를 적용하여 RNN 모델 학습해보자.\n",
    "- 합쳐진 데이터를 분할하고, 검증 데이터도 분할해주자. "
   ]
  },
  {
   "cell_type": "code",
   "execution_count": 68,
   "id": "a2626280",
   "metadata": {},
   "outputs": [
    {
     "name": "stdout",
     "output_type": "stream",
     "text": [
      "(96182, 100)\n",
      "(96182,)\n"
     ]
    }
   ],
   "source": [
    "# 데이터 분할\n",
    "X_train = tensor_uni[:146182]\n",
    "X_test = tensor_uni[146182:]\n",
    "\n",
    "y_train = np.array(list(train_data['label']))\n",
    "y_test = np.array(list(test_data['label']))\n",
    "\n",
    "# validation set 50000건 분리\n",
    "x_val = X_train[:50000]   \n",
    "y_val = y_train[:50000]\n",
    "\n",
    "# validation set을 제외한 나머지 \n",
    "partial_X_train = X_train[50000:]  \n",
    "partial_y_train = y_train[50000:]\n",
    "\n",
    "print(partial_X_train.shape)\n",
    "print(partial_y_train.shape)"
   ]
  },
  {
   "cell_type": "code",
   "execution_count": 69,
   "id": "423652d7",
   "metadata": {},
   "outputs": [
    {
     "name": "stdout",
     "output_type": "stream",
     "text": [
      "Model: \"sequential_3\"\n",
      "_________________________________________________________________\n",
      "Layer (type)                 Output Shape              Param #   \n",
      "=================================================================\n",
      "embedding_3 (Embedding)      (None, None, 16)          160000    \n",
      "_________________________________________________________________\n",
      "lstm_3 (LSTM)                (None, 12)                1392      \n",
      "_________________________________________________________________\n",
      "dense_6 (Dense)              (None, 8)                 104       \n",
      "_________________________________________________________________\n",
      "dense_7 (Dense)              (None, 1)                 9         \n",
      "=================================================================\n",
      "Total params: 161,505\n",
      "Trainable params: 161,505\n",
      "Non-trainable params: 0\n",
      "_________________________________________________________________\n"
     ]
    }
   ],
   "source": [
    "import numpy as np\n",
    "import tensorflow as tf\n",
    "from tensorflow import keras\n",
    "\n",
    "vocab_size = 10000    \n",
    "word_vector_dim = 16\n",
    "\n",
    "model_rnn = keras.Sequential()\n",
    "model_rnn.add(keras.layers.Embedding(vocab_size, word_vector_dim, input_shape=(None,)))\n",
    "model_rnn.add(keras.layers.LSTM(12))   \n",
    "model_rnn.add(keras.layers.Dense(8, activation='relu'))\n",
    "model_rnn.add(keras.layers.Dense(1, activation='sigmoid'))  \n",
    "\n",
    "model_rnn.summary()"
   ]
  },
  {
   "cell_type": "code",
   "execution_count": 70,
   "id": "6c273c43",
   "metadata": {},
   "outputs": [
    {
     "name": "stdout",
     "output_type": "stream",
     "text": [
      "Epoch 1/50\n",
      "188/188 [==============================] - 3s 11ms/step - loss: 0.5366 - accuracy: 0.7445 - val_loss: 0.3739 - val_accuracy: 0.8414\n",
      "Epoch 2/50\n",
      "188/188 [==============================] - 2s 8ms/step - loss: 0.3396 - accuracy: 0.8573 - val_loss: 0.3459 - val_accuracy: 0.8518\n",
      "Epoch 3/50\n",
      "188/188 [==============================] - 2s 8ms/step - loss: 0.3114 - accuracy: 0.8696 - val_loss: 0.3506 - val_accuracy: 0.8484\n",
      "Epoch 4/50\n",
      "188/188 [==============================] - 2s 8ms/step - loss: 0.2997 - accuracy: 0.8745 - val_loss: 0.3442 - val_accuracy: 0.8526\n",
      "Epoch 5/50\n",
      "188/188 [==============================] - 2s 8ms/step - loss: 0.2905 - accuracy: 0.8793 - val_loss: 0.3439 - val_accuracy: 0.8506\n",
      "Epoch 6/50\n",
      "188/188 [==============================] - 2s 8ms/step - loss: 0.2817 - accuracy: 0.8830 - val_loss: 0.3489 - val_accuracy: 0.8514\n",
      "Epoch 7/50\n",
      "188/188 [==============================] - 2s 8ms/step - loss: 0.2723 - accuracy: 0.8868 - val_loss: 0.3531 - val_accuracy: 0.8515\n",
      "Epoch 8/50\n",
      "188/188 [==============================] - 2s 8ms/step - loss: 0.2628 - accuracy: 0.8918 - val_loss: 0.3551 - val_accuracy: 0.8501\n",
      "Epoch 9/50\n",
      "188/188 [==============================] - 2s 8ms/step - loss: 0.2542 - accuracy: 0.8950 - val_loss: 0.3623 - val_accuracy: 0.8490\n",
      "Epoch 10/50\n",
      "188/188 [==============================] - 2s 8ms/step - loss: 0.2440 - accuracy: 0.9006 - val_loss: 0.3749 - val_accuracy: 0.8477\n",
      "Epoch 11/50\n",
      "188/188 [==============================] - 2s 8ms/step - loss: 0.2354 - accuracy: 0.9039 - val_loss: 0.3814 - val_accuracy: 0.8480\n",
      "Epoch 12/50\n",
      "188/188 [==============================] - 2s 8ms/step - loss: 0.2263 - accuracy: 0.9077 - val_loss: 0.3934 - val_accuracy: 0.8449\n",
      "Epoch 13/50\n",
      "188/188 [==============================] - 2s 8ms/step - loss: 0.2173 - accuracy: 0.9120 - val_loss: 0.3939 - val_accuracy: 0.8436\n",
      "Epoch 14/50\n",
      "188/188 [==============================] - 2s 8ms/step - loss: 0.2110 - accuracy: 0.9147 - val_loss: 0.4004 - val_accuracy: 0.8403\n",
      "Epoch 15/50\n",
      "188/188 [==============================] - 2s 8ms/step - loss: 0.2027 - accuracy: 0.9186 - val_loss: 0.4398 - val_accuracy: 0.8379\n",
      "Epoch 16/50\n",
      "188/188 [==============================] - 2s 8ms/step - loss: 0.1964 - accuracy: 0.9219 - val_loss: 0.4432 - val_accuracy: 0.8395\n",
      "Epoch 17/50\n",
      "188/188 [==============================] - 2s 8ms/step - loss: 0.1868 - accuracy: 0.9255 - val_loss: 0.4711 - val_accuracy: 0.8396\n",
      "Epoch 18/50\n",
      "188/188 [==============================] - 2s 8ms/step - loss: 0.1804 - accuracy: 0.9278 - val_loss: 0.4934 - val_accuracy: 0.8382\n",
      "Epoch 19/50\n",
      "188/188 [==============================] - 2s 8ms/step - loss: 0.1752 - accuracy: 0.9303 - val_loss: 0.4832 - val_accuracy: 0.8344\n",
      "Epoch 20/50\n",
      "188/188 [==============================] - 2s 8ms/step - loss: 0.1671 - accuracy: 0.9336 - val_loss: 0.5273 - val_accuracy: 0.8339\n",
      "Epoch 21/50\n",
      "188/188 [==============================] - 2s 8ms/step - loss: 0.1602 - accuracy: 0.9371 - val_loss: 0.5549 - val_accuracy: 0.8367\n",
      "Epoch 22/50\n",
      "188/188 [==============================] - 2s 8ms/step - loss: 0.1524 - accuracy: 0.9403 - val_loss: 0.5951 - val_accuracy: 0.8342\n",
      "Epoch 23/50\n",
      "188/188 [==============================] - 2s 8ms/step - loss: 0.1508 - accuracy: 0.9400 - val_loss: 0.5798 - val_accuracy: 0.8349\n",
      "Epoch 24/50\n",
      "188/188 [==============================] - 2s 8ms/step - loss: 0.1394 - accuracy: 0.9450 - val_loss: 0.6468 - val_accuracy: 0.8319\n",
      "Epoch 25/50\n",
      "188/188 [==============================] - 2s 8ms/step - loss: 0.1300 - accuracy: 0.9489 - val_loss: 0.6527 - val_accuracy: 0.8302\n",
      "Epoch 26/50\n",
      "188/188 [==============================] - 2s 8ms/step - loss: 0.1229 - accuracy: 0.9524 - val_loss: 0.6990 - val_accuracy: 0.8284\n",
      "Epoch 27/50\n",
      "188/188 [==============================] - 2s 8ms/step - loss: 0.1204 - accuracy: 0.9525 - val_loss: 0.7387 - val_accuracy: 0.8301\n",
      "Epoch 28/50\n",
      "188/188 [==============================] - 2s 9ms/step - loss: 0.1136 - accuracy: 0.9554 - val_loss: 0.7513 - val_accuracy: 0.8262\n",
      "Epoch 29/50\n",
      "188/188 [==============================] - 2s 8ms/step - loss: 0.1132 - accuracy: 0.9559 - val_loss: 0.7875 - val_accuracy: 0.8283\n",
      "Epoch 30/50\n",
      "188/188 [==============================] - 2s 8ms/step - loss: 0.1068 - accuracy: 0.9584 - val_loss: 0.8324 - val_accuracy: 0.8262\n",
      "Epoch 31/50\n",
      "188/188 [==============================] - 2s 9ms/step - loss: 0.0941 - accuracy: 0.9636 - val_loss: 0.8770 - val_accuracy: 0.8244\n",
      "Epoch 32/50\n",
      "188/188 [==============================] - 2s 8ms/step - loss: 0.0889 - accuracy: 0.9660 - val_loss: 0.9192 - val_accuracy: 0.8195\n",
      "Epoch 33/50\n",
      "188/188 [==============================] - 2s 8ms/step - loss: 0.0949 - accuracy: 0.9637 - val_loss: 0.8684 - val_accuracy: 0.8284\n",
      "Epoch 34/50\n",
      "188/188 [==============================] - 2s 8ms/step - loss: 0.0913 - accuracy: 0.9650 - val_loss: 0.9196 - val_accuracy: 0.8219\n",
      "Epoch 35/50\n",
      "188/188 [==============================] - 2s 8ms/step - loss: 0.0857 - accuracy: 0.9674 - val_loss: 0.9967 - val_accuracy: 0.8254\n",
      "Epoch 36/50\n",
      "188/188 [==============================] - 2s 8ms/step - loss: 0.0731 - accuracy: 0.9730 - val_loss: 1.0594 - val_accuracy: 0.8247\n",
      "Epoch 37/50\n",
      "188/188 [==============================] - 2s 8ms/step - loss: 0.0666 - accuracy: 0.9759 - val_loss: 1.1592 - val_accuracy: 0.8195\n",
      "Epoch 38/50\n",
      "188/188 [==============================] - 2s 8ms/step - loss: 0.0614 - accuracy: 0.9779 - val_loss: 1.2072 - val_accuracy: 0.8212\n",
      "Epoch 39/50\n",
      "188/188 [==============================] - 2s 8ms/step - loss: 0.0657 - accuracy: 0.9761 - val_loss: 1.2107 - val_accuracy: 0.8194\n",
      "Epoch 40/50\n",
      "188/188 [==============================] - 2s 8ms/step - loss: 0.0603 - accuracy: 0.9782 - val_loss: 1.2916 - val_accuracy: 0.8194\n",
      "Epoch 41/50\n",
      "188/188 [==============================] - 2s 8ms/step - loss: 0.0559 - accuracy: 0.9801 - val_loss: 1.3246 - val_accuracy: 0.8185\n",
      "Epoch 42/50\n",
      "188/188 [==============================] - 2s 8ms/step - loss: 0.0566 - accuracy: 0.9799 - val_loss: 1.3345 - val_accuracy: 0.8197\n",
      "Epoch 43/50\n",
      "188/188 [==============================] - 2s 8ms/step - loss: 0.0568 - accuracy: 0.9802 - val_loss: 1.3047 - val_accuracy: 0.8144\n",
      "Epoch 44/50\n",
      "188/188 [==============================] - 2s 8ms/step - loss: 0.0617 - accuracy: 0.9785 - val_loss: 1.3511 - val_accuracy: 0.8201\n",
      "Epoch 45/50\n",
      "188/188 [==============================] - 2s 8ms/step - loss: 0.0473 - accuracy: 0.9835 - val_loss: 1.3851 - val_accuracy: 0.8185\n",
      "Epoch 46/50\n",
      "188/188 [==============================] - 2s 8ms/step - loss: 0.0470 - accuracy: 0.9839 - val_loss: 1.4611 - val_accuracy: 0.8185\n",
      "Epoch 47/50\n",
      "188/188 [==============================] - 2s 8ms/step - loss: 0.0439 - accuracy: 0.9851 - val_loss: 1.5001 - val_accuracy: 0.8136\n",
      "Epoch 48/50\n",
      "188/188 [==============================] - 2s 8ms/step - loss: 0.0456 - accuracy: 0.9847 - val_loss: 1.5039 - val_accuracy: 0.8121\n",
      "Epoch 49/50\n",
      "188/188 [==============================] - 2s 8ms/step - loss: 0.0418 - accuracy: 0.9859 - val_loss: 1.5727 - val_accuracy: 0.8144\n",
      "Epoch 50/50\n",
      "188/188 [==============================] - 2s 8ms/step - loss: 0.0370 - accuracy: 0.9876 - val_loss: 1.6894 - val_accuracy: 0.8181\n"
     ]
    }
   ],
   "source": [
    "model_rnn.compile(optimizer='adam',\n",
    "              loss='binary_crossentropy',\n",
    "              metrics=['accuracy'])\n",
    "              \n",
    "epochs = 50\n",
    "\n",
    "history_rnn = model_rnn.fit(partial_X_train,\n",
    "                    partial_y_train,\n",
    "                    epochs=epochs,\n",
    "                    batch_size=512,\n",
    "                    validation_data=(x_val, y_val),\n",
    "                    verbose=1)"
   ]
  },
  {
   "cell_type": "markdown",
   "id": "a0e980dc",
   "metadata": {},
   "source": [
    "##### 평가하기"
   ]
  },
  {
   "cell_type": "code",
   "execution_count": 71,
   "id": "05b89205",
   "metadata": {},
   "outputs": [
    {
     "name": "stdout",
     "output_type": "stream",
     "text": [
      "1537/1537 - 4s - loss: 1.7158 - accuracy: 0.8145\n",
      "[1.7157953977584839, 0.8145330548286438]\n",
      "dict_keys(['loss', 'accuracy', 'val_loss', 'val_accuracy'])\n"
     ]
    },
    {
     "data": {
      "image/png": "[encoded data removed]",
      "text/plain": [
       "<Figure size 432x288 with 1 Axes>"
      ]
     },
     "metadata": {
      "needs_background": "light"
     },
     "output_type": "display_data"
    },
    {
     "data": {
      "image/png": "[encoded data removed]",
      "text/plain": [
       "<Figure size 432x288 with 1 Axes>"
      ]
     },
     "metadata": {
      "needs_background": "light"
     },
     "output_type": "display_data"
    }
   ],
   "source": [
    "\n",
    "results_rnn = model_rnn.evaluate(X_test, y_test, verbose=2)\n",
    "print(results_rnn)\n",
    "\n",
    "history_dict_rnn = history_rnn.history\n",
    "print(history_dict_rnn.keys()) # epoch에 따른 그래프를 그려볼 수 있는 항목들\n",
    "\n",
    "# train과 val의 Loss\n",
    "acc_rnn = history_dict_rnn['accuracy']\n",
    "val_acc_rnn = history_dict_rnn['val_accuracy']\n",
    "loss_rnn = history_dict_rnn['loss']\n",
    "val_loss_rnn = history_dict_rnn['val_loss']\n",
    "\n",
    "epochs_rnn = range(1, len(acc_rnn) + 1)\n",
    "\n",
    "# \"bo\"는 \"파란색 점\"\n",
    "plt.plot(epochs_rnn, loss_rnn, 'bo', label='Training loss')\n",
    "# b는 \"파란 실선\"\n",
    "plt.plot(epochs_rnn, val_loss_rnn, 'b', label='Validation loss')\n",
    "plt.title('RNN\\'s Training & validation loss')\n",
    "plt.xlabel('Epochs')\n",
    "plt.ylabel('Loss')\n",
    "plt.legend()\n",
    "\n",
    "plt.show()\n",
    "\n",
    "# train과 val의 accuracy\n",
    "plt.clf()  \n",
    "\n",
    "plt.plot(epochs_rnn, acc_rnn, 'bo', label='Training acc')\n",
    "plt.plot(epochs_rnn, val_acc_rnn, 'b', label='Validation acc')\n",
    "plt.title('RNN\\'s Training and validation accuracy')\n",
    "plt.xlabel('Epochs')\n",
    "plt.ylabel('Accuracy')\n",
    "plt.legend()\n",
    "\n",
    "plt.show()"
   ]
  },
  {
   "cell_type": "code",
   "execution_count": 72,
   "id": "883ea6e9",
   "metadata": {},
   "outputs": [
    {
     "name": "stdout",
     "output_type": "stream",
     "text": [
      "(96182, 100)\n",
      "(96182,)\n"
     ]
    }
   ],
   "source": [
    "# 데이터 분할\n",
    "X_train = tensor_bpe[:146182]\n",
    "X_test = tensor_bpe[146182:]\n",
    "\n",
    "y_train = np.array(list(train_data['label']))\n",
    "y_test = np.array(list(test_data['label']))\n",
    "\n",
    "# validation set 50000건 분리\n",
    "x_val = X_train[:50000]   \n",
    "y_val = y_train[:50000]\n",
    "\n",
    "# validation set을 제외한 나머지 \n",
    "partial_X_train = X_train[50000:]  \n",
    "partial_y_train = y_train[50000:]\n",
    "\n",
    "print(partial_X_train.shape)\n",
    "print(partial_y_train.shape)"
   ]
  },
  {
   "cell_type": "code",
   "execution_count": 73,
   "id": "caea9521",
   "metadata": {},
   "outputs": [
    {
     "name": "stdout",
     "output_type": "stream",
     "text": [
      "Model: \"sequential_4\"\n",
      "_________________________________________________________________\n",
      "Layer (type)                 Output Shape              Param #   \n",
      "=================================================================\n",
      "embedding_4 (Embedding)      (None, None, 16)          160000    \n",
      "_________________________________________________________________\n",
      "lstm_4 (LSTM)                (None, 12)                1392      \n",
      "_________________________________________________________________\n",
      "dense_8 (Dense)              (None, 8)                 104       \n",
      "_________________________________________________________________\n",
      "dense_9 (Dense)              (None, 1)                 9         \n",
      "=================================================================\n",
      "Total params: 161,505\n",
      "Trainable params: 161,505\n",
      "Non-trainable params: 0\n",
      "_________________________________________________________________\n"
     ]
    }
   ],
   "source": [
    "import numpy as np\n",
    "import tensorflow as tf\n",
    "from tensorflow import keras\n",
    "\n",
    "vocab_size = 10000    \n",
    "word_vector_dim = 16\n",
    "\n",
    "model_rnn = keras.Sequential()\n",
    "model_rnn.add(keras.layers.Embedding(vocab_size, word_vector_dim, input_shape=(None,)))\n",
    "model_rnn.add(keras.layers.LSTM(12))   \n",
    "model_rnn.add(keras.layers.Dense(8, activation='relu'))\n",
    "model_rnn.add(keras.layers.Dense(1, activation='sigmoid'))  \n",
    "\n",
    "model_rnn.summary()"
   ]
  },
  {
   "cell_type": "code",
   "execution_count": 74,
   "id": "0a925deb",
   "metadata": {},
   "outputs": [
    {
     "name": "stdout",
     "output_type": "stream",
     "text": [
      "Epoch 1/50\n",
      "188/188 [==============================] - 3s 11ms/step - loss: 0.5704 - accuracy: 0.7202 - val_loss: 0.4462 - val_accuracy: 0.8234\n",
      "Epoch 2/50\n",
      "188/188 [==============================] - 2s 8ms/step - loss: 0.3647 - accuracy: 0.8495 - val_loss: 0.3540 - val_accuracy: 0.8469\n",
      "Epoch 3/50\n",
      "188/188 [==============================] - 2s 8ms/step - loss: 0.3188 - accuracy: 0.8667 - val_loss: 0.3473 - val_accuracy: 0.8502\n",
      "Epoch 4/50\n",
      "188/188 [==============================] - 2s 8ms/step - loss: 0.3003 - accuracy: 0.8757 - val_loss: 0.3475 - val_accuracy: 0.8497\n",
      "Epoch 5/50\n",
      "188/188 [==============================] - 2s 8ms/step - loss: 0.2872 - accuracy: 0.8823 - val_loss: 0.3478 - val_accuracy: 0.8508\n",
      "Epoch 6/50\n",
      "188/188 [==============================] - 2s 9ms/step - loss: 0.2752 - accuracy: 0.8887 - val_loss: 0.3537 - val_accuracy: 0.8495\n",
      "Epoch 7/50\n",
      "188/188 [==============================] - 2s 8ms/step - loss: 0.2636 - accuracy: 0.8942 - val_loss: 0.3607 - val_accuracy: 0.8463\n",
      "Epoch 8/50\n",
      "188/188 [==============================] - 2s 8ms/step - loss: 0.2540 - accuracy: 0.8990 - val_loss: 0.3654 - val_accuracy: 0.8463\n",
      "Epoch 9/50\n",
      "188/188 [==============================] - 2s 8ms/step - loss: 0.2455 - accuracy: 0.9032 - val_loss: 0.3777 - val_accuracy: 0.8468\n",
      "Epoch 10/50\n",
      "188/188 [==============================] - 2s 8ms/step - loss: 0.2366 - accuracy: 0.9071 - val_loss: 0.3817 - val_accuracy: 0.8456\n",
      "Epoch 11/50\n",
      "188/188 [==============================] - 2s 8ms/step - loss: 0.2276 - accuracy: 0.9120 - val_loss: 0.3899 - val_accuracy: 0.8432\n",
      "Epoch 12/50\n",
      "188/188 [==============================] - 2s 8ms/step - loss: 0.2178 - accuracy: 0.9162 - val_loss: 0.3903 - val_accuracy: 0.8430\n",
      "Epoch 13/50\n",
      "188/188 [==============================] - 2s 8ms/step - loss: 0.2082 - accuracy: 0.9207 - val_loss: 0.4138 - val_accuracy: 0.8408\n",
      "Epoch 14/50\n",
      "188/188 [==============================] - 2s 8ms/step - loss: 0.2004 - accuracy: 0.9242 - val_loss: 0.4193 - val_accuracy: 0.8379\n",
      "Epoch 15/50\n",
      "188/188 [==============================] - 2s 8ms/step - loss: 0.1892 - accuracy: 0.9293 - val_loss: 0.4373 - val_accuracy: 0.8368\n",
      "Epoch 16/50\n",
      "188/188 [==============================] - 2s 8ms/step - loss: 0.1811 - accuracy: 0.9328 - val_loss: 0.4602 - val_accuracy: 0.8381\n",
      "Epoch 17/50\n",
      "188/188 [==============================] - 2s 8ms/step - loss: 0.1726 - accuracy: 0.9372 - val_loss: 0.4808 - val_accuracy: 0.8370\n",
      "Epoch 18/50\n",
      "188/188 [==============================] - 2s 8ms/step - loss: 0.1640 - accuracy: 0.9397 - val_loss: 0.4776 - val_accuracy: 0.8337\n",
      "Epoch 19/50\n",
      "188/188 [==============================] - 2s 8ms/step - loss: 0.1570 - accuracy: 0.9431 - val_loss: 0.5193 - val_accuracy: 0.8345\n",
      "Epoch 20/50\n",
      "188/188 [==============================] - 2s 8ms/step - loss: 0.1490 - accuracy: 0.9467 - val_loss: 0.5295 - val_accuracy: 0.8298\n",
      "Epoch 21/50\n",
      "188/188 [==============================] - 2s 8ms/step - loss: 0.1452 - accuracy: 0.9480 - val_loss: 0.5737 - val_accuracy: 0.8317\n",
      "Epoch 22/50\n",
      "188/188 [==============================] - 2s 8ms/step - loss: 0.1378 - accuracy: 0.9510 - val_loss: 0.5617 - val_accuracy: 0.8294\n",
      "Epoch 23/50\n",
      "188/188 [==============================] - 2s 8ms/step - loss: 0.1327 - accuracy: 0.9538 - val_loss: 0.6194 - val_accuracy: 0.8296\n",
      "Epoch 24/50\n",
      "188/188 [==============================] - 2s 8ms/step - loss: 0.1220 - accuracy: 0.9581 - val_loss: 0.6511 - val_accuracy: 0.8270\n",
      "Epoch 25/50\n",
      "188/188 [==============================] - 2s 8ms/step - loss: 0.1187 - accuracy: 0.9593 - val_loss: 0.6818 - val_accuracy: 0.8242\n",
      "Epoch 26/50\n",
      "188/188 [==============================] - 2s 8ms/step - loss: 0.1149 - accuracy: 0.9609 - val_loss: 0.7035 - val_accuracy: 0.8246\n",
      "Epoch 27/50\n",
      "188/188 [==============================] - 2s 8ms/step - loss: 0.1058 - accuracy: 0.9644 - val_loss: 0.7317 - val_accuracy: 0.8228\n",
      "Epoch 28/50\n",
      "188/188 [==============================] - 2s 8ms/step - loss: 0.1062 - accuracy: 0.9644 - val_loss: 0.7896 - val_accuracy: 0.8230\n",
      "Epoch 29/50\n",
      "188/188 [==============================] - 2s 8ms/step - loss: 0.0954 - accuracy: 0.9690 - val_loss: 0.8016 - val_accuracy: 0.8205\n",
      "Epoch 30/50\n",
      "188/188 [==============================] - 2s 8ms/step - loss: 0.0944 - accuracy: 0.9695 - val_loss: 0.8775 - val_accuracy: 0.8205\n",
      "Epoch 31/50\n",
      "188/188 [==============================] - 2s 8ms/step - loss: 0.0945 - accuracy: 0.9693 - val_loss: 0.8624 - val_accuracy: 0.8225\n",
      "Epoch 32/50\n",
      "188/188 [==============================] - 2s 8ms/step - loss: 0.0845 - accuracy: 0.9737 - val_loss: 0.9089 - val_accuracy: 0.8191\n",
      "Epoch 33/50\n",
      "188/188 [==============================] - 2s 8ms/step - loss: 0.0751 - accuracy: 0.9772 - val_loss: 0.9564 - val_accuracy: 0.8177\n",
      "Epoch 34/50\n",
      "188/188 [==============================] - 2s 8ms/step - loss: 0.0777 - accuracy: 0.9761 - val_loss: 0.9048 - val_accuracy: 0.8194\n",
      "Epoch 35/50\n",
      "188/188 [==============================] - 2s 8ms/step - loss: 0.0742 - accuracy: 0.9772 - val_loss: 1.0199 - val_accuracy: 0.8151\n",
      "Epoch 36/50\n",
      "188/188 [==============================] - 2s 8ms/step - loss: 0.0752 - accuracy: 0.9771 - val_loss: 1.0360 - val_accuracy: 0.8179\n",
      "Epoch 37/50\n",
      "188/188 [==============================] - 2s 8ms/step - loss: 0.0693 - accuracy: 0.9796 - val_loss: 1.0603 - val_accuracy: 0.8153\n",
      "Epoch 38/50\n",
      "188/188 [==============================] - 2s 8ms/step - loss: 0.0718 - accuracy: 0.9784 - val_loss: 1.0881 - val_accuracy: 0.8142\n",
      "Epoch 39/50\n",
      "188/188 [==============================] - 2s 8ms/step - loss: 0.0654 - accuracy: 0.9812 - val_loss: 1.1499 - val_accuracy: 0.8152\n",
      "Epoch 40/50\n",
      "188/188 [==============================] - 2s 8ms/step - loss: 0.0613 - accuracy: 0.9823 - val_loss: 1.1371 - val_accuracy: 0.8143\n",
      "Epoch 41/50\n",
      "188/188 [==============================] - 2s 8ms/step - loss: 0.0591 - accuracy: 0.9829 - val_loss: 1.2770 - val_accuracy: 0.8141\n",
      "Epoch 42/50\n",
      "188/188 [==============================] - 2s 9ms/step - loss: 0.0550 - accuracy: 0.9845 - val_loss: 1.2294 - val_accuracy: 0.8119\n",
      "Epoch 43/50\n",
      "188/188 [==============================] - 2s 9ms/step - loss: 0.0572 - accuracy: 0.9837 - val_loss: 1.3044 - val_accuracy: 0.8152\n",
      "Epoch 44/50\n",
      "188/188 [==============================] - 2s 8ms/step - loss: 0.0553 - accuracy: 0.9840 - val_loss: 1.3129 - val_accuracy: 0.8138\n",
      "Epoch 45/50\n",
      "188/188 [==============================] - 2s 9ms/step - loss: 0.0484 - accuracy: 0.9866 - val_loss: 1.2276 - val_accuracy: 0.8045\n",
      "Epoch 46/50\n",
      "188/188 [==============================] - 2s 8ms/step - loss: 0.0510 - accuracy: 0.9856 - val_loss: 1.3558 - val_accuracy: 0.8144\n",
      "Epoch 47/50\n",
      "188/188 [==============================] - 2s 8ms/step - loss: 0.0484 - accuracy: 0.9865 - val_loss: 1.4836 - val_accuracy: 0.8160\n",
      "Epoch 48/50\n",
      "188/188 [==============================] - 2s 8ms/step - loss: 0.0506 - accuracy: 0.9853 - val_loss: 1.4099 - val_accuracy: 0.8127\n",
      "Epoch 49/50\n",
      "188/188 [==============================] - 2s 8ms/step - loss: 0.0429 - accuracy: 0.9886 - val_loss: 1.8142 - val_accuracy: 0.8032\n",
      "Epoch 50/50\n",
      "188/188 [==============================] - 2s 8ms/step - loss: 0.0560 - accuracy: 0.9840 - val_loss: 1.4693 - val_accuracy: 0.8106\n"
     ]
    }
   ],
   "source": [
    "model_rnn.compile(optimizer='adam',\n",
    "              loss='binary_crossentropy',\n",
    "              metrics=['accuracy'])\n",
    "              \n",
    "epochs = 50\n",
    "\n",
    "history_rnn = model_rnn.fit(partial_X_train,\n",
    "                    partial_y_train,\n",
    "                    epochs=epochs,\n",
    "                    batch_size=512,\n",
    "                    validation_data=(x_val, y_val),\n",
    "                    verbose=1)"
   ]
  },
  {
   "cell_type": "code",
   "execution_count": 75,
   "id": "d4ca112d",
   "metadata": {},
   "outputs": [
    {
     "name": "stdout",
     "output_type": "stream",
     "text": [
      "1537/1537 - 4s - loss: 1.5249 - accuracy: 0.8090\n",
      "[1.524940013885498, 0.8089793920516968]\n",
      "dict_keys(['loss', 'accuracy', 'val_loss', 'val_accuracy'])\n"
     ]
    },
    {
     "data": {
      "image/png": "[encoded data removed]",
      "text/plain": [
       "<Figure size 432x288 with 1 Axes>"
      ]
     },
     "metadata": {
      "needs_background": "light"
     },
     "output_type": "display_data"
    },
    {
     "data": {
      "image/png": "[encoded data removed]",
      "text/plain": [
       "<Figure size 432x288 with 1 Axes>"
      ]
     },
     "metadata": {
      "needs_background": "light"
     },
     "output_type": "display_data"
    }
   ],
   "source": [
    "# 평가하기\n",
    "results_rnn = model_rnn.evaluate(X_test, y_test, verbose=2)\n",
    "print(results_rnn)\n",
    "\n",
    "history_dict_rnn = history_rnn.history\n",
    "print(history_dict_rnn.keys()) # epoch에 따른 그래프를 그려볼 수 있는 항목들\n",
    "\n",
    "# train과 val의 Loss\n",
    "acc_rnn = history_dict_rnn['accuracy']\n",
    "val_acc_rnn = history_dict_rnn['val_accuracy']\n",
    "loss_rnn = history_dict_rnn['loss']\n",
    "val_loss_rnn = history_dict_rnn['val_loss']\n",
    "\n",
    "epochs_rnn = range(1, len(acc_rnn) + 1)\n",
    "\n",
    "# \"bo\"는 \"파란색 점\"\n",
    "plt.plot(epochs_rnn, loss_rnn, 'bo', label='Training loss')\n",
    "# b는 \"파란 실선\"\n",
    "plt.plot(epochs_rnn, val_loss_rnn, 'b', label='Validation loss')\n",
    "plt.title('RNN\\'s Training & validation loss')\n",
    "plt.xlabel('Epochs')\n",
    "plt.ylabel('Loss')\n",
    "plt.legend()\n",
    "\n",
    "plt.show()\n",
    "\n",
    "# train과 val의 accuracy\n",
    "plt.clf()  \n",
    "\n",
    "plt.plot(epochs_rnn, acc_rnn, 'bo', label='Training acc')\n",
    "plt.plot(epochs_rnn, val_acc_rnn, 'b', label='Validation acc')\n",
    "plt.title('RNN\\'s Training and validation accuracy')\n",
    "plt.xlabel('Epochs')\n",
    "plt.ylabel('Accuracy')\n",
    "plt.legend()\n",
    "\n",
    "plt.show()"
   ]
  },
  {
   "cell_type": "markdown",
   "id": "60ca6a57",
   "metadata": {},
   "source": [
    "### KoNLPy 형태소 분석기를 사용한 모델과 성능 비교하기\n",
    "\n",
    "- 데이터의 중복 제거\n",
    "- NaN 결측치 제거\n",
    "- 한국어 토크나이저로 토큰화\n",
    "- 불용어(Stopwords) 제거\n",
    "- 사전word_to_index 구성\n",
    "- 텍스트 스트링을 사전 인덱스 스트링으로 변환\n",
    "- X_train, y_train, X_test, y_test, word_to_index 리턴"
   ]
  },
  {
   "cell_type": "code",
   "execution_count": 76,
   "id": "9368ee1e",
   "metadata": {},
   "outputs": [],
   "source": [
    "\n",
    "from konlpy.tag import Mecab\n",
    "tokenizer = Mecab()\n",
    "stopwords = ['의','가','이','은','들','는','좀','잘','걍','과','도','를','으로','자','에','와','한','하다'] \n",
    "num_words = 10000\n",
    "\n",
    "def load_data(train_data, test_data, num_words=10000):\n",
    "    train_data.drop_duplicates(subset=['document'], inplace=True)\n",
    "    train_data = train_data.dropna(how = 'any') \n",
    "    test_data.drop_duplicates(subset=['document'], inplace=True)\n",
    "    test_data = test_data.dropna(how = 'any') \n",
    "\n",
    "    X_train = []\n",
    "    for sentence in train_data['document']:\n",
    "        temp_X = tokenizer.morphs(sentence) # 토큰화\n",
    "        temp_X = [word for word in temp_X if not word in stopwords] # 불용어 제거\n",
    "        X_train.append(temp_X)\n",
    "\n",
    "    X_test = []\n",
    "    for sentence in test_data['document']:\n",
    "        temp_X = tokenizer.morphs(sentence) # 토큰화\n",
    "        temp_X = [word for word in temp_X if not word in stopwords] # 불용어 제거\n",
    "        X_test.append(temp_X)\n",
    "\n",
    "    words = np.concatenate(X_train).tolist()\n",
    "    counter = Counter(words)\n",
    "    counter = counter.most_common(10000-4)\n",
    "    vocab = ['<PAD>', '<BOS>', '<UNK>', '<UNUSED>'] + [key for key, _ in counter]\n",
    "    word_to_index = {word:index for index, word in enumerate(vocab)}\n",
    "\n",
    "    def wordlist_to_indexlist(wordlist):\n",
    "        return [word_to_index[word] if word in word_to_index else word_to_index['<UNK>'] for word in wordlist]\n",
    "\n",
    "    X_train = list(map(wordlist_to_indexlist, X_train))\n",
    "    X_test = list(map(wordlist_to_indexlist, X_test))\n",
    "\n",
    "    return X_train, np.array(list(train_data['label'])), X_test, np.array(list(test_data['label'])), word_to_index\n",
    "\n",
    "X_train, y_train, X_test, y_test, word_to_index = load_data(train_data, test_data) \n",
    "\n"
   ]
  },
  {
   "cell_type": "code",
   "execution_count": 77,
   "id": "db19df72",
   "metadata": {},
   "outputs": [],
   "source": [
    "index_to_word = {index:word for word, index in word_to_index.items()}"
   ]
  },
  {
   "cell_type": "code",
   "execution_count": 78,
   "id": "9a957b16",
   "metadata": {},
   "outputs": [],
   "source": [
    "# 문장 1개를 활용할 딕셔너리와 함께 주면, 단어 인덱스 리스트 벡터로 변환해 주는 함수\n",
    "def get_encoded_sentence(sentence, word_to_index):\n",
    "    return [word_to_index['<BOS>']]+[word_to_index[word] if word in word_to_index else word_to_index['<UNK>'] for word in sentence.split()]\n",
    "\n",
    "# 여러 개의 문장 리스트를 한꺼번에 단어 인덱스 리스트 벡터로 encode해 주는 함수\n",
    "def get_encoded_sentences(sentences, word_to_index):\n",
    "    return [get_encoded_sentence(sentence, word_to_index) for sentence in sentences]\n",
    "\n",
    "# 숫자 벡터로 encode된 문장을 원래대로 decode하는 함수\n",
    "def get_decoded_sentence(encoded_sentence, index_to_word):\n",
    "    return ' '.join(index_to_word[index] if index in index_to_word else '<UNK>' for index in encoded_sentence[1:])  #[1:]를 통해 <BOS>를 제외\n",
    "\n",
    "# 여러개의 숫자 벡터로 encode된 문장을 한꺼번에 원래대로 decode하는 함수\n",
    "def get_decoded_sentences(encoded_sentences, index_to_word):\n",
    "    return [get_decoded_sentence(encoded_sentence, index_to_word) for encoded_sentence in encoded_sentences]"
   ]
  },
  {
   "cell_type": "code",
   "execution_count": 79,
   "id": "bf52a968",
   "metadata": {},
   "outputs": [
    {
     "name": "stdout",
     "output_type": "stream",
     "text": [
      "훈련 샘플 개수: 146182, 테스트 개수: 49157\n",
      "[32, 74, 919, 4, 4, 39, 228, 20, 33, 748]\n",
      "라벨:  0\n",
      "1번째 리뷰 문장 길이:  10\n",
      "2번째 리뷰 문장 길이:  17\n",
      "더 빙 . . 진짜 짜증 나 네요 목소리\n",
      "라벨:  0\n"
     ]
    }
   ],
   "source": [
    "##  모델 구성을 위한 데이터 분석 및 가공을 해주자.\n",
    "\n",
    "print(\"훈련 샘플 개수: {}, 테스트 개수: {}\".format(len(X_train), len(X_test)))\n",
    "\n",
    "# 데이터셋 내 문장 길이 분포 파악\n",
    "print(X_train[0])  # 1번째 리뷰데이터\n",
    "print('라벨: ', y_train[0])  # 1번째 리뷰데이터의 라벨\n",
    "print('1번째 리뷰 문장 길이: ', len(X_train[0]))\n",
    "print('2번째 리뷰 문장 길이: ', len(X_train[1]))\n",
    "\n",
    "print(get_decoded_sentence(X_train[0], index_to_word))\n",
    "print('라벨: ', y_train[0])  # 1번째 리뷰데이터의 라벨"
   ]
  },
  {
   "cell_type": "code",
   "execution_count": 80,
   "id": "0211dfd8",
   "metadata": {},
   "outputs": [
    {
     "name": "stdout",
     "output_type": "stream",
     "text": [
      "문장길이 평균 :  15.96940191154864\n",
      "문장길이 최대 :  116\n",
      "문장길이 표준편차 :  12.843571191092\n",
      "pad_sequences maxlen :  41\n",
      "전체 문장의 0.9342988343341575%가 maxlen 설정값 이내에 포함됩니다. \n"
     ]
    }
   ],
   "source": [
    "# 적절한 최대 문장 길이를 지정\n",
    "total_data_text = list(X_train) + list(X_test)\n",
    "# 텍스트데이터 문장길이의 리스트를 생성\n",
    "num_tokens = [len(tokens) for tokens in total_data_text]\n",
    "num_tokens = np.array(num_tokens)\n",
    "\n",
    "print('문장길이 평균 : ', np.mean(num_tokens))\n",
    "print('문장길이 최대 : ', np.max(num_tokens))\n",
    "print('문장길이 표준편차 : ', np.std(num_tokens))\n",
    "\n",
    "# 최대 길이를 (평균 + 2*표준편차)로 설정  \n",
    "max_tokens = np.mean(num_tokens) + 2 * np.std(num_tokens)\n",
    "maxlen = int(max_tokens)\n",
    "print('pad_sequences maxlen : ', maxlen)\n",
    "print('전체 문장의 {}%가 maxlen 설정값 이내에 포함됩니다. '.format(np.sum(num_tokens < max_tokens) / len(num_tokens)))"
   ]
  },
  {
   "cell_type": "code",
   "execution_count": 81,
   "id": "e1afa97f",
   "metadata": {},
   "outputs": [
    {
     "name": "stdout",
     "output_type": "stream",
     "text": [
      "(146182, 41)\n"
     ]
    }
   ],
   "source": [
    "# 패딩 작업\n",
    "X_train = keras.preprocessing.sequence.pad_sequences(X_train,\n",
    "                                                        value=word_to_index[\"<PAD>\"],\n",
    "                                                        padding='pre', # 혹은 'pre'\n",
    "                                                        maxlen=maxlen)\n",
    "\n",
    "X_test = keras.preprocessing.sequence.pad_sequences(X_test,\n",
    "                                                       value=word_to_index[\"<PAD>\"],\n",
    "                                                       padding='pre', # 혹은 'pre'\n",
    "                                                       maxlen=maxlen)\n",
    "\n",
    "print(X_train.shape)"
   ]
  },
  {
   "cell_type": "markdown",
   "id": "5022f874",
   "metadata": {},
   "source": [
    "- RNN 모델 구성 및 검증 데이터셋을 구성해주자."
   ]
  },
  {
   "cell_type": "code",
   "execution_count": 82,
   "id": "440296c6",
   "metadata": {},
   "outputs": [
    {
     "name": "stdout",
     "output_type": "stream",
     "text": [
      "(96182, 41)\n",
      "(96182,)\n"
     ]
    }
   ],
   "source": [
    "#  validation set 구성\n",
    "X_val = X_train[:50000]   \n",
    "y_val = y_train[:50000]\n",
    "\n",
    "# validation set을 제외한 나머지\n",
    "partial_X_train = X_train[50000:]  \n",
    "partial_y_train = y_train[50000:]\n",
    "\n",
    "print(partial_X_train.shape)\n",
    "print(partial_y_train.shape)"
   ]
  },
  {
   "cell_type": "code",
   "execution_count": 83,
   "id": "11a671cc",
   "metadata": {},
   "outputs": [
    {
     "name": "stdout",
     "output_type": "stream",
     "text": [
      "Model: \"sequential_5\"\n",
      "_________________________________________________________________\n",
      "Layer (type)                 Output Shape              Param #   \n",
      "=================================================================\n",
      "embedding_5 (Embedding)      (None, None, 16)          160000    \n",
      "_________________________________________________________________\n",
      "lstm_5 (LSTM)                (None, 12)                1392      \n",
      "_________________________________________________________________\n",
      "dense_10 (Dense)             (None, 8)                 104       \n",
      "_________________________________________________________________\n",
      "dense_11 (Dense)             (None, 1)                 9         \n",
      "=================================================================\n",
      "Total params: 161,505\n",
      "Trainable params: 161,505\n",
      "Non-trainable params: 0\n",
      "_________________________________________________________________\n"
     ]
    }
   ],
   "source": [
    "import numpy as np\n",
    "import tensorflow as tf\n",
    "from tensorflow import keras\n",
    "\n",
    "vocab_size = 10000    \n",
    "word_vector_dim = 16\n",
    "\n",
    "model_rnn = keras.Sequential()\n",
    "model_rnn.add(keras.layers.Embedding(vocab_size, word_vector_dim, input_shape=(None,)))\n",
    "model_rnn.add(keras.layers.LSTM(12))   \n",
    "model_rnn.add(keras.layers.Dense(8, activation='relu'))\n",
    "model_rnn.add(keras.layers.Dense(1, activation='sigmoid'))  \n",
    "\n",
    "model_rnn.summary()"
   ]
  },
  {
   "cell_type": "code",
   "execution_count": 84,
   "id": "ea974fb7",
   "metadata": {},
   "outputs": [
    {
     "name": "stdout",
     "output_type": "stream",
     "text": [
      "Epoch 1/50\n",
      "188/188 [==============================] - 3s 8ms/step - loss: 0.5500 - accuracy: 0.7552 - val_loss: 0.3975 - val_accuracy: 0.8349\n",
      "Epoch 2/50\n",
      "188/188 [==============================] - 1s 6ms/step - loss: 0.3565 - accuracy: 0.8498 - val_loss: 0.3526 - val_accuracy: 0.8486\n",
      "Epoch 3/50\n",
      "188/188 [==============================] - 1s 6ms/step - loss: 0.3235 - accuracy: 0.8648 - val_loss: 0.3511 - val_accuracy: 0.8478\n",
      "Epoch 4/50\n",
      "188/188 [==============================] - 1s 6ms/step - loss: 0.3076 - accuracy: 0.8728 - val_loss: 0.3522 - val_accuracy: 0.8485\n",
      "Epoch 5/50\n",
      "188/188 [==============================] - 1s 6ms/step - loss: 0.2980 - accuracy: 0.8770 - val_loss: 0.3559 - val_accuracy: 0.8471\n",
      "Epoch 6/50\n",
      "188/188 [==============================] - 1s 6ms/step - loss: 0.2892 - accuracy: 0.8818 - val_loss: 0.3581 - val_accuracy: 0.8470\n",
      "Epoch 7/50\n",
      "188/188 [==============================] - 1s 6ms/step - loss: 0.2814 - accuracy: 0.8851 - val_loss: 0.3635 - val_accuracy: 0.8462\n",
      "Epoch 8/50\n",
      "188/188 [==============================] - 1s 6ms/step - loss: 0.2727 - accuracy: 0.8893 - val_loss: 0.3641 - val_accuracy: 0.8477\n",
      "Epoch 9/50\n",
      "188/188 [==============================] - 1s 6ms/step - loss: 0.2633 - accuracy: 0.8934 - val_loss: 0.3681 - val_accuracy: 0.8460\n",
      "Epoch 10/50\n",
      "188/188 [==============================] - 1s 6ms/step - loss: 0.2530 - accuracy: 0.8986 - val_loss: 0.3733 - val_accuracy: 0.8464\n",
      "Epoch 11/50\n",
      "188/188 [==============================] - 1s 6ms/step - loss: 0.2437 - accuracy: 0.9029 - val_loss: 0.3855 - val_accuracy: 0.8463\n",
      "Epoch 12/50\n",
      "188/188 [==============================] - 1s 6ms/step - loss: 0.2360 - accuracy: 0.9070 - val_loss: 0.3900 - val_accuracy: 0.8452\n",
      "Epoch 13/50\n",
      "188/188 [==============================] - 1s 6ms/step - loss: 0.2247 - accuracy: 0.9122 - val_loss: 0.3987 - val_accuracy: 0.8421\n",
      "Epoch 14/50\n",
      "188/188 [==============================] - 1s 6ms/step - loss: 0.2163 - accuracy: 0.9160 - val_loss: 0.4152 - val_accuracy: 0.8403\n",
      "Epoch 15/50\n",
      "188/188 [==============================] - 1s 6ms/step - loss: 0.2087 - accuracy: 0.9192 - val_loss: 0.4356 - val_accuracy: 0.8412\n",
      "Epoch 16/50\n",
      "188/188 [==============================] - 1s 6ms/step - loss: 0.2005 - accuracy: 0.9236 - val_loss: 0.4308 - val_accuracy: 0.8416\n",
      "Epoch 17/50\n",
      "188/188 [==============================] - 1s 6ms/step - loss: 0.1937 - accuracy: 0.9263 - val_loss: 0.4407 - val_accuracy: 0.8388\n",
      "Epoch 18/50\n",
      "188/188 [==============================] - 1s 6ms/step - loss: 0.1875 - accuracy: 0.9284 - val_loss: 0.4708 - val_accuracy: 0.8389\n",
      "Epoch 19/50\n",
      "188/188 [==============================] - 1s 6ms/step - loss: 0.1802 - accuracy: 0.9323 - val_loss: 0.4820 - val_accuracy: 0.8378\n",
      "Epoch 20/50\n",
      "188/188 [==============================] - 1s 6ms/step - loss: 0.1748 - accuracy: 0.9344 - val_loss: 0.5024 - val_accuracy: 0.8381\n",
      "Epoch 21/50\n",
      "188/188 [==============================] - 1s 6ms/step - loss: 0.1689 - accuracy: 0.9358 - val_loss: 0.5275 - val_accuracy: 0.8372\n",
      "Epoch 22/50\n",
      "188/188 [==============================] - 1s 6ms/step - loss: 0.1620 - accuracy: 0.9396 - val_loss: 0.5586 - val_accuracy: 0.8362\n",
      "Epoch 23/50\n",
      "188/188 [==============================] - 1s 6ms/step - loss: 0.1649 - accuracy: 0.9387 - val_loss: 0.5231 - val_accuracy: 0.8360\n",
      "Epoch 24/50\n",
      "188/188 [==============================] - 1s 6ms/step - loss: 0.1537 - accuracy: 0.9428 - val_loss: 0.5433 - val_accuracy: 0.8335\n",
      "Epoch 25/50\n",
      "188/188 [==============================] - 1s 6ms/step - loss: 0.1487 - accuracy: 0.9455 - val_loss: 0.5656 - val_accuracy: 0.8337\n",
      "Epoch 26/50\n",
      "188/188 [==============================] - 1s 6ms/step - loss: 0.1430 - accuracy: 0.9477 - val_loss: 0.5990 - val_accuracy: 0.8337\n",
      "Epoch 27/50\n",
      "188/188 [==============================] - 1s 6ms/step - loss: 0.1394 - accuracy: 0.9494 - val_loss: 0.6196 - val_accuracy: 0.8322\n",
      "Epoch 28/50\n",
      "188/188 [==============================] - 1s 6ms/step - loss: 0.1354 - accuracy: 0.9508 - val_loss: 0.6479 - val_accuracy: 0.8320\n",
      "Epoch 29/50\n",
      "188/188 [==============================] - 1s 6ms/step - loss: 0.1304 - accuracy: 0.9529 - val_loss: 0.6776 - val_accuracy: 0.8303\n",
      "Epoch 30/50\n",
      "188/188 [==============================] - 1s 6ms/step - loss: 0.1295 - accuracy: 0.9532 - val_loss: 0.6645 - val_accuracy: 0.8304\n",
      "Epoch 31/50\n",
      "188/188 [==============================] - 1s 6ms/step - loss: 0.1219 - accuracy: 0.9561 - val_loss: 0.7072 - val_accuracy: 0.8290\n",
      "Epoch 32/50\n",
      "188/188 [==============================] - 1s 6ms/step - loss: 0.1186 - accuracy: 0.9577 - val_loss: 0.7645 - val_accuracy: 0.8313\n",
      "Epoch 33/50\n",
      "188/188 [==============================] - 1s 6ms/step - loss: 0.1138 - accuracy: 0.9599 - val_loss: 0.7545 - val_accuracy: 0.8277\n",
      "Epoch 34/50\n",
      "188/188 [==============================] - 1s 6ms/step - loss: 0.1153 - accuracy: 0.9592 - val_loss: 0.7957 - val_accuracy: 0.8285\n",
      "Epoch 35/50\n",
      "188/188 [==============================] - 1s 6ms/step - loss: 0.1089 - accuracy: 0.9618 - val_loss: 0.7647 - val_accuracy: 0.8263\n",
      "Epoch 36/50\n",
      "188/188 [==============================] - 1s 6ms/step - loss: 0.1064 - accuracy: 0.9632 - val_loss: 0.8044 - val_accuracy: 0.8286\n",
      "Epoch 37/50\n",
      "188/188 [==============================] - 1s 6ms/step - loss: 0.1062 - accuracy: 0.9627 - val_loss: 0.8540 - val_accuracy: 0.8248\n",
      "Epoch 38/50\n",
      "188/188 [==============================] - 1s 6ms/step - loss: 0.1052 - accuracy: 0.9628 - val_loss: 0.8713 - val_accuracy: 0.8261\n",
      "Epoch 39/50\n",
      "188/188 [==============================] - 1s 6ms/step - loss: 0.1008 - accuracy: 0.9647 - val_loss: 0.9061 - val_accuracy: 0.8265\n",
      "Epoch 40/50\n",
      "188/188 [==============================] - 1s 6ms/step - loss: 0.0982 - accuracy: 0.9656 - val_loss: 0.8726 - val_accuracy: 0.8243\n",
      "Epoch 41/50\n",
      "188/188 [==============================] - 1s 6ms/step - loss: 0.0950 - accuracy: 0.9670 - val_loss: 0.8835 - val_accuracy: 0.8231\n",
      "Epoch 42/50\n",
      "188/188 [==============================] - 1s 7ms/step - loss: 0.0937 - accuracy: 0.9675 - val_loss: 0.9697 - val_accuracy: 0.8273\n",
      "Epoch 43/50\n",
      "188/188 [==============================] - 1s 6ms/step - loss: 0.0906 - accuracy: 0.9682 - val_loss: 0.9967 - val_accuracy: 0.8258\n",
      "Epoch 44/50\n",
      "188/188 [==============================] - 1s 6ms/step - loss: 0.0934 - accuracy: 0.9668 - val_loss: 1.0037 - val_accuracy: 0.8267\n",
      "Epoch 45/50\n",
      "188/188 [==============================] - 1s 6ms/step - loss: 0.0871 - accuracy: 0.9698 - val_loss: 1.0752 - val_accuracy: 0.8250\n",
      "Epoch 46/50\n",
      "188/188 [==============================] - 1s 6ms/step - loss: 0.0857 - accuracy: 0.9706 - val_loss: 0.9995 - val_accuracy: 0.8231\n",
      "Epoch 47/50\n",
      "188/188 [==============================] - 1s 6ms/step - loss: 0.0846 - accuracy: 0.9713 - val_loss: 1.0148 - val_accuracy: 0.8216\n",
      "Epoch 48/50\n",
      "188/188 [==============================] - 1s 6ms/step - loss: 0.0854 - accuracy: 0.9705 - val_loss: 1.0977 - val_accuracy: 0.8253\n",
      "Epoch 49/50\n",
      "188/188 [==============================] - 1s 6ms/step - loss: 0.0818 - accuracy: 0.9715 - val_loss: 1.1509 - val_accuracy: 0.8222\n",
      "Epoch 50/50\n",
      "188/188 [==============================] - 1s 6ms/step - loss: 0.0838 - accuracy: 0.9712 - val_loss: 1.1543 - val_accuracy: 0.8249\n"
     ]
    }
   ],
   "source": [
    "model_rnn.compile(optimizer='adam',\n",
    "              loss='binary_crossentropy',\n",
    "              metrics=['accuracy'])\n",
    "              \n",
    "epochs = 50\n",
    "\n",
    "history_rnn = model_rnn.fit(partial_X_train,\n",
    "                    partial_y_train,\n",
    "                    epochs=epochs,\n",
    "                    batch_size=512,\n",
    "                    validation_data=(X_val, y_val),\n",
    "                    verbose=1)"
   ]
  },
  {
   "cell_type": "markdown",
   "id": "47fe24b3",
   "metadata": {},
   "source": [
    "##### 평가하기"
   ]
  },
  {
   "cell_type": "code",
   "execution_count": 85,
   "id": "8b37c79c",
   "metadata": {},
   "outputs": [
    {
     "name": "stdout",
     "output_type": "stream",
     "text": [
      "1537/1537 - 3s - loss: 1.1679 - accuracy: 0.8200\n",
      "[1.1678791046142578, 0.8200052976608276]\n",
      "dict_keys(['loss', 'accuracy', 'val_loss', 'val_accuracy'])\n"
     ]
    },
    {
     "data": {
      "image/png": "[encoded data removed]",
      "text/plain": [
       "<Figure size 432x288 with 1 Axes>"
      ]
     },
     "metadata": {
      "needs_background": "light"
     },
     "output_type": "display_data"
    },
    {
     "data": {
      "image/png": "[encoded data removed]",
      "text/plain": [
       "<Figure size 432x288 with 1 Axes>"
      ]
     },
     "metadata": {
      "needs_background": "light"
     },
     "output_type": "display_data"
    }
   ],
   "source": [
    "results_rnn = model_rnn.evaluate(X_test, y_test, verbose=2)\n",
    "print(results_rnn)\n",
    "\n",
    "history_dict_rnn = history_rnn.history\n",
    "print(history_dict_rnn.keys()) # epoch에 따른 그래프를 그려볼 수 있는 항목들\n",
    "\n",
    "# train과 val의 Loss\n",
    "acc_rnn = history_dict_rnn['accuracy']\n",
    "val_acc_rnn = history_dict_rnn['val_accuracy']\n",
    "loss_rnn = history_dict_rnn['loss']\n",
    "val_loss_rnn = history_dict_rnn['val_loss']\n",
    "\n",
    "epochs_rnn = range(1, len(acc_rnn) + 1)\n",
    "\n",
    "# \"bo\"는 \"파란색 점\"\n",
    "plt.plot(epochs_rnn, loss_rnn, 'bo', label='Training loss')\n",
    "# b는 \"파란 실선\"\n",
    "plt.plot(epochs_rnn, val_loss_rnn, 'b', label='Validation loss')\n",
    "plt.title('RNN\\'s Training & validation loss')\n",
    "plt.xlabel('Epochs')\n",
    "plt.ylabel('Loss')\n",
    "plt.legend()\n",
    "\n",
    "plt.show()\n",
    "\n",
    "# train과 val의 accuracy\n",
    "plt.clf()  \n",
    "\n",
    "plt.plot(epochs_rnn, acc_rnn, 'bo', label='Training acc')\n",
    "plt.plot(epochs_rnn, val_acc_rnn, 'b', label='Validation acc')\n",
    "plt.title('RNN\\'s Training and validation accuracy')\n",
    "plt.xlabel('Epochs')\n",
    "plt.ylabel('Accuracy')\n",
    "plt.legend()\n",
    "\n",
    "plt.show()"
   ]
  },
  {
   "cell_type": "markdown",
   "id": "8217b2e6",
   "metadata": {},
   "source": [
    "## (회고, 정리)\n",
    "\n",
    "- 배운 점 : 전처리, 토큰화, 워드임베딩 기법 등을 배울수 있었다.\n",
    "- 아쉬운 점 : 우도? 이런거 계산하는 거 이해하기 어려움\n",
    "- 느낀 점 : 매일매일 꾸준히 하자\n",
    "- 어려웠던 점 : 링크 논문 을 읽지 못하였다 .. 시간관계상 저녁에 읽어볼까? 생각함"
   ]
  },
  {
   "cell_type": "code",
   "execution_count": null,
   "id": "a6a6dc7c",
   "metadata": {},
   "outputs": [],
   "source": []
  }
 ],
 "metadata": {
  "kernelspec": {
   "display_name": "Python 3 (ipykernel)",
   "language": "python",
   "name": "python3"
  },
  "language_info": {
   "codemirror_mode": {
    "name": "ipython",
    "version": 3
   },
   "file_extension": ".py",
   "mimetype": "text/x-python",
   "name": "python",
   "nbconvert_exporter": "python",
   "pygments_lexer": "ipython3",
   "version": "3.9.7"
  }
 },
 "nbformat": 4,
 "nbformat_minor": 5
}
